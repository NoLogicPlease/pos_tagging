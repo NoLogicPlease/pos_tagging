{
  "nbformat": 4,
  "nbformat_minor": 0,
  "metadata": {
    "colab": {
      "name": "Assignment1.ipynb",
      "provenance": [],
      "collapsed_sections": [],
      "toc_visible": true
    },
    "kernelspec": {
      "name": "python3",
      "display_name": "Python 3"
    },
    "language_info": {
      "name": "python"
    },
    "accelerator": "GPU"
  },
  "cells": [
    {
      "cell_type": "markdown",
      "metadata": {
        "id": "V2ADs98pXS5A"
      },
      "source": [
        "#IMPORTS"
      ]
    },
    {
      "cell_type": "code",
      "metadata": {
        "id": "2J_G319uWdaq"
      },
      "source": [
        "import tensorflow as tf\n",
        "from tensorflow import keras\n",
        "from tensorflow.keras import layers\n",
        "\n",
        "import copy\n",
        "import os\n",
        "import re\n",
        "import tarfile\n",
        "import zipfile\n",
        "import random\n",
        "import numpy as np\n",
        "import pandas as pd\n",
        "from tqdm import tqdm\n",
        "from urllib import request\n",
        "import collections\n",
        "from sklearn.metrics import f1_score, accuracy_score\n",
        "import matplotlib.pyplot as plt\n",
        "import pickle"
      ],
      "execution_count": 1,
      "outputs": []
    },
    {
      "cell_type": "code",
      "source": [
        "! pip install gensim==4.1.2\n",
        "import gensim\n",
        "import gensim.downloader as gloader"
      ],
      "metadata": {
        "colab": {
          "base_uri": "https://localhost:8080/"
        },
        "id": "KLk3I9e-KJ5h",
        "outputId": "f5fbdc45-1e54-4f37-cd50-06350b0f1801"
      },
      "execution_count": 2,
      "outputs": [
        {
          "output_type": "stream",
          "name": "stdout",
          "text": [
            "Requirement already satisfied: gensim==4.1.2 in /usr/local/lib/python3.7/dist-packages (4.1.2)\n",
            "Requirement already satisfied: numpy>=1.17.0 in /usr/local/lib/python3.7/dist-packages (from gensim==4.1.2) (1.19.5)\n",
            "Requirement already satisfied: scipy>=0.18.1 in /usr/local/lib/python3.7/dist-packages (from gensim==4.1.2) (1.4.1)\n",
            "Requirement already satisfied: smart-open>=1.8.1 in /usr/local/lib/python3.7/dist-packages (from gensim==4.1.2) (5.2.1)\n"
          ]
        }
      ]
    },
    {
      "cell_type": "code",
      "metadata": {
        "id": "94EeD6PDYehe"
      },
      "source": [
        "EMBEDDING_SIZE = 50\n",
        "BATCH_SIZE = 64"
      ],
      "execution_count": 3,
      "outputs": []
    },
    {
      "cell_type": "code",
      "metadata": {
        "id": "dBnbipknZFiz"
      },
      "source": [
        "def fix_random(seed: int) -> None:\n",
        "    \"\"\"Fix all the possible sources of randomness.\n",
        "\n",
        "    Args:\n",
        "        seed: the seed to use. \n",
        "    \"\"\"\n",
        "    np.random.seed(seed)\n",
        "    random.seed(seed)    \n",
        "    \n",
        "fix_random(42)"
      ],
      "execution_count": 4,
      "outputs": []
    },
    {
      "cell_type": "markdown",
      "metadata": {
        "id": "emVCaVMrZU2l"
      },
      "source": [
        "#PRE-PROCESSING"
      ]
    },
    {
      "cell_type": "code",
      "metadata": {
        "colab": {
          "base_uri": "https://localhost:8080/"
        },
        "id": "wWbdix6EZUJX",
        "outputId": "10aa7923-6c36-4c7f-92c1-7aa84697975b"
      },
      "source": [
        "def download_dataset(download_path: str, url: str):  # download dataset\n",
        "    if not os.path.exists(download_path):\n",
        "        print(\"Downloading dataset...\")\n",
        "        request.urlretrieve(url, download_path)\n",
        "        print(\"Download complete!\")\n",
        "\n",
        "\n",
        "def extract_dataset(download_path: str, extract_path: str):  # extract dataset\n",
        "    print(\"Extracting dataset... (it may take a while...)\")\n",
        "    with zipfile.ZipFile(download_path, 'r') as loaded_zip:\n",
        "        loaded_zip.extractall(extract_path)\n",
        "    print(\"Extraction completed!\")\n",
        "\n",
        "\n",
        "def encode_dataset(dataset_path: str, dataset_folder: str, debug: bool = True) -> (\n",
        "        pd.DataFrame, int):  # dataset to dataframe\n",
        "    dataframe_rows = []\n",
        "    s_lengths = []\n",
        "    for index, file in tqdm(enumerate(sorted(os.listdir(dataset_path)))):\n",
        "        file_name = os.path.join(dataset_path, file)\n",
        "        with open(file_name) as f:\n",
        "            lines = f.readlines()\n",
        "        full_file = ''.join(lines)  # since lines is a list we use a single string called full_file\n",
        "\n",
        "        full_file = re.sub(r'(\\t\\d+)', '', full_file)  # remove numbers from each lines of dataset\n",
        "        full_file = re.sub(r'(\\t)', ' ', full_file)  # replace \\t with a space\n",
        "        sentences = full_file.split('\\n\\n')\n",
        "        for s in sentences:  # separate all words from their tags\n",
        "            text = ''.join(re.findall(r'.+ ', s))\n",
        "            labels = ''.join(re.findall(r' .+', s))\n",
        "            labels = re.sub(r' (.+)', r'\\1 ', labels)\n",
        "            labels = re.sub('\\n', ' ', labels)\n",
        "            s_lengths.append(len(labels.split(' ')))\n",
        "            # split into train, val and test\n",
        "            if index <= 100:\n",
        "                split = 'train'\n",
        "            elif 100 < index <= 150:\n",
        "                split = 'val'\n",
        "            else:\n",
        "                split = 'test'\n",
        "\n",
        "            # create a single row of dataframe\n",
        "            dataframe_row = {\n",
        "                \"text\": text,\n",
        "                \"POStagging\": labels,\n",
        "                \"split\": split,\n",
        "            }\n",
        "            dataframe_rows.append(dataframe_row)\n",
        "\n",
        "    # transform the list of rows in a proper dataframe\n",
        "    df = pd.DataFrame(dataframe_rows)\n",
        "    df = df[[\"text\",\n",
        "             \"POStagging\",\n",
        "             \"split\"]]\n",
        "    dataframe_path = os.path.join(dataset_folder, \"dependency_treebank_df.pkl\")\n",
        "    df.to_pickle(dataframe_path)\n",
        "    return df, max(s_lengths)\n",
        "\n",
        "\n",
        "def create_dataset():\n",
        "    dataset_folder = os.path.join(os.getcwd(), \"Datasets\")\n",
        "    if not os.path.exists(dataset_folder):\n",
        "        os.makedirs(dataset_folder)\n",
        "\n",
        "    url = \"https://raw.githubusercontent.com/nltk/nltk_data/gh-pages/packages/corpora/dependency_treebank.zip\"\n",
        "\n",
        "    dataset_path_zip = os.path.join(dataset_folder, \"dependency_treebank.zip\")\n",
        "    download_dataset(dataset_path_zip, url)\n",
        "    extract_dataset(dataset_path_zip, dataset_folder)\n",
        "    dataset_path = os.path.join(dataset_folder, \"dependency_treebank\")\n",
        "    df, max_seq_len = encode_dataset(dataset_path, dataset_folder)\n",
        "    df['POStagging'] = df['POStagging'].str.lower()\n",
        "    df['text'] = df['text'].str.lower()\n",
        "    return df, max_seq_len\n",
        "\n",
        "\n",
        "def create_trainable(dataset, value_to_key, max_seq_len, num_classes):\n",
        "    text_ids = [[value_to_key[word] for word in sen.split()] for sen in dataset['text']]\n",
        "    x_train = []\n",
        "    y_train = []\n",
        "    label_tokenizer = {}\n",
        "\n",
        "    one_hot_idx = 0\n",
        "    for sen, tagging in zip(text_ids, dataset[\"POStagging\"]):\n",
        "        tmp = [0] * (max_seq_len - len(sen)) + sen\n",
        "        x_train.append(tmp)\n",
        "\n",
        "        for label in tagging.split():\n",
        "            try:\n",
        "                check_label = label_tokenizer[label]\n",
        "            except KeyError:\n",
        "                label_tokenizer[label] = [1 if i == one_hot_idx else 0 for i in range(num_classes)]\n",
        "                one_hot_idx += 1\n",
        "\n",
        "        tmp = [[0] * num_classes] * (max_seq_len - len(sen)) + [label_tokenizer[e] for e in tagging.split()]\n",
        "        y_train.append(tmp)\n",
        "    return np.array(x_train), np.array(y_train), label_tokenizer\n",
        "\n",
        "\n",
        "def get_num_classes(dataset):\n",
        "    return len(np.unique(''.join(dataset[\"POStagging\"]).split())) + 1  # +1 for the padding\n",
        "\n",
        "#########################################\n",
        "\n",
        "try:\n",
        "    from google.colab import drive\n",
        "    IN_COLAB=True\n",
        "except:\n",
        "    IN_COLAB=False\n",
        "\n",
        "if IN_COLAB:\n",
        "    print(\"We're running Colab\")\n",
        "    # Mount the Google Drive at mount\n",
        "    mount='/content/gdrive'\n",
        "    print(\"Colab: mounting Google drive on \", mount)\n",
        "    drive.mount(mount)\n",
        "\n",
        "    # Switch to the directory on the Google Drive that you want to use\n",
        "    drive_root = mount + \"/My Drive/NLP/Assignment1\"\n",
        "    \n",
        "    # Create drive_root if it doesn't exist\n",
        "    create_drive_root = True\n",
        "    if create_drive_root:\n",
        "        print(\"\\nColab: making sure \", drive_root, \" exists.\")\n",
        "        os.makedirs(drive_root, exist_ok=True)\n",
        "    \n",
        "    # Change to the directory\n",
        "    print(\"\\nColab: Changing directory to \", drive_root)\n",
        "    %cd $drive_root\n",
        "    print(\"Checking working directory:\")\n",
        "    %pwd\n",
        "\n",
        "# download_data('dataset')"
      ],
      "execution_count": 5,
      "outputs": [
        {
          "output_type": "stream",
          "name": "stdout",
          "text": [
            "We're running Colab\n",
            "Colab: mounting Google drive on  /content/gdrive\n",
            "Drive already mounted at /content/gdrive; to attempt to forcibly remount, call drive.mount(\"/content/gdrive\", force_remount=True).\n",
            "\n",
            "Colab: making sure  /content/gdrive/My Drive/NLP/Assignment1  exists.\n",
            "\n",
            "Colab: Changing directory to  /content/gdrive/My Drive/NLP/Assignment1\n",
            "/content/gdrive/My Drive/NLP/Assignment1\n",
            "Checking working directory:\n"
          ]
        }
      ]
    },
    {
      "cell_type": "markdown",
      "metadata": {
        "id": "f906py0bZ58D"
      },
      "source": [
        "#CLASSES"
      ]
    },
    {
      "cell_type": "markdown",
      "metadata": {
        "id": "2WIn6xeVaDbI"
      },
      "source": [
        "##Tokenizer"
      ]
    },
    {
      "cell_type": "code",
      "metadata": {
        "id": "lDUaYlImZ89v"
      },
      "source": [
        "class Tokenizer(object):\n",
        "    def __init__(self, dataset_sentences, embedding_dim, glove_dict, glove_matrix):\n",
        "        self.embedding_matrix = None\n",
        "        self.value_to_key = {}\n",
        "        self.value_to_key_new = {}\n",
        "        self.key_to_value = {}\n",
        "        self.num_unique_words = 0\n",
        "        self.dataset_sentences = dataset_sentences\n",
        "        self.embedding_dim = embedding_dim\n",
        "        self.glove_dict = glove_dict\n",
        "        self.glove_matrix = glove_matrix\n",
        "        self.unique_words = set()\n",
        "\n",
        "    def get_val_to_key(self):\n",
        "        return copy.deepcopy(self.value_to_key)\n",
        "\n",
        "    def tokenize(self):\n",
        "        self.value_to_key_new = {}\n",
        "        unique_words = set()\n",
        "        for sen in self.dataset_sentences:\n",
        "            for w in sen.split():\n",
        "                unique_words.add(w)  # get se of unique words\n",
        "        new_unique = unique_words - self.unique_words\n",
        "        for i, word in enumerate(new_unique):\n",
        "            if self.embedding_matrix is not None:\n",
        "                self.key_to_value[i + len(self.embedding_matrix)] = word  # build two dictionaries for key value correspondence\n",
        "                self.value_to_key[word] = i + len(self.embedding_matrix)\n",
        "            else:\n",
        "                self.key_to_value[i] = word  # build two dictionaries for key value correspondence\n",
        "                self.value_to_key[word] = i\n",
        "            self.value_to_key_new[word] = i\n",
        "\n",
        "        self.num_unique_words = len(new_unique)\n",
        "        self.unique_words = self.unique_words | new_unique  # union of unique words and new unique words\n",
        "\n",
        "    def __build_embedding_matrix_glove(self):\n",
        "        oov_words = []\n",
        "        tmp_embedding_matrix = np.zeros((self.num_unique_words, self.embedding_dim)) #dtype=np.float32\n",
        "        len_old_emb_matrix = len(self.embedding_matrix) if self.embedding_matrix is not None else 0\n",
        "        for word, idx in tqdm(self.value_to_key_new.items()):\n",
        "            try:\n",
        "                embedding_vector = self.glove_matrix[self.glove_dict[word]]\n",
        "                tmp_embedding_matrix[idx] = embedding_vector\n",
        "            except (KeyError, TypeError):\n",
        "                oov_words.append((word, idx + len_old_emb_matrix))\n",
        "        \n",
        "        if self.embedding_matrix is not None:\n",
        "            self.embedding_matrix = np.vstack((self.embedding_matrix, tmp_embedding_matrix))\n",
        "\n",
        "        else:\n",
        "            self.embedding_matrix = copy.deepcopy(tmp_embedding_matrix)\n",
        "        return oov_words\n",
        "\n",
        "    def build_embedding_matrix(self):\n",
        "        oov_words = self.__build_embedding_matrix_glove()\n",
        "        for word, idx in oov_words:\n",
        "            embedding_vector = np.random.uniform(low=-0.05, high=0.05, size=self.embedding_dim)\n",
        "            self.embedding_matrix[idx] = embedding_vector\n",
        "            '''\n",
        "              neighbour_words = []\n",
        "              for sen in self.dataset_sentences:  # look for word in sentence\n",
        "                  for i, wanted_word in enumerate(sen):\n",
        "                      if wanted_word == word:\n",
        "                          neighbour_words.append(sen[i - 1])  # append previous word in list of neighbours\n",
        "                          neighbour_words.append(sen[i + 1])  # append next word in list of neighbours\n",
        "              avg_matrix = np.zeros((len(neighbour_words), self.embedding_dim))  # initialize matrix of avgs\n",
        "\n",
        "              length_in_vocab = 0  # to check if neighbours are OOV\n",
        "              for i, el in enumerate(neighbour_words):\n",
        "                  try:\n",
        "                      avg_matrix[i] = self.embedding_matrix[self.value_to_key[el]]  # check not OOV\n",
        "                      length_in_vocab += 1  # we don't want to use the zero columns of avg_matrix\n",
        "                  except (KeyError, TypeError):  # the model doesn't exist\n",
        "                      pass\n",
        "              if length_in_vocab == 0:\n",
        "                  embedding_vector = np.random.uniform(low=-0.05, high=0.05, size=self.embedding_dim)\n",
        "              else:\n",
        "                  embedding_vector = np.mean(avg_matrix[:length_in_vocab], axis=0)\n",
        "              self.embedding_matrix[idx] = embedding_vector'''\n",
        "        return copy.deepcopy(self.embedding_matrix)"
      ],
      "execution_count": 6,
      "outputs": []
    },
    {
      "cell_type": "markdown",
      "metadata": {
        "id": "KgyHeGTHaHEW"
      },
      "source": [
        "##Model"
      ]
    },
    {
      "cell_type": "code",
      "metadata": {
        "id": "ACllxoPkaHNp"
      },
      "source": [
        "class Model(object):\n",
        "    def __init__(self, model_type, compile_info, value_to_key, embedding_dim, max_seq_len, num_labels,\n",
        "                 embedding_matrix):\n",
        "\n",
        "        self.compile_info = compile_info\n",
        "        self.value_to_key = value_to_key\n",
        "        self.embedding_dim = embedding_dim\n",
        "        self.max_seq_len = max_seq_len\n",
        "        self.num_labels = num_labels\n",
        "        self.embedding_matrix = embedding_matrix\n",
        "\n",
        "        if 'baseline' == model_type:\n",
        "            self.model = self.create_LSTM()\n",
        "        elif 'gru' == model_type:\n",
        "            self.model = self.create_GRU()\n",
        "        elif 'two_lstm' == model_type:\n",
        "            self.model = self.create_two_LSTM()\n",
        "        else:\n",
        "            self.model = self.create_two_Dense()\n",
        "\n",
        "\n",
        "    def create_LSTM(self) -> keras.Model:\n",
        "        bidirect_model = keras.models.Sequential()\n",
        "        bidirect_model.add(layers.Embedding(input_dim=len(self.value_to_key.keys())+1,\n",
        "                                            output_dim=self.embedding_dim,\n",
        "                                            mask_zero = True,\n",
        "                                            input_length=self.max_seq_len,\n",
        "                                            weights=[self.embedding_matrix],\n",
        "                                            trainable=False\n",
        "                                            ))\n",
        "        bidirect_model.add(layers.Bidirectional(layers.LSTM(32, return_sequences=True)))\n",
        "        bidirect_model.add(layers.TimeDistributed(layers.Dense(self.num_labels, activation=\"softmax\")))\n",
        "        bidirect_model.compile(**self.compile_info)\n",
        "        bidirect_model.summary()\n",
        "        return bidirect_model\n",
        "\n",
        "    def create_GRU(self) -> keras.Model:\n",
        "        gru = keras.models.Sequential()\n",
        "        gru.add(layers.Embedding(input_dim=len(self.value_to_key.keys()),\n",
        "                                 output_dim=self.embedding_dim,\n",
        "                                 input_length=self.max_seq_len,\n",
        "                                 mask_zero=True,\n",
        "                                 weights=[self.embedding_matrix],\n",
        "                                 trainable=False\n",
        "                                 ))\n",
        "\n",
        "        gru.add(layers.GRU(64, return_sequences=True))\n",
        "        gru.add(layers.TimeDistributed(layers.Dense(self.num_labels, activation=\"softmax\")))\n",
        "        gru.compile(**self.compile_info)\n",
        "        gru.summary()\n",
        "        return gru\n",
        "\n",
        "    def create_two_LSTM(self) -> keras.Model:\n",
        "        lstm = keras.models.Sequential()\n",
        "        lstm.add(layers.Embedding(input_dim=len(self.value_to_key.keys()),\n",
        "                                  output_dim=self.embedding_dim,\n",
        "                                  input_length=self.max_seq_len,\n",
        "                                  mask_zero=True,\n",
        "                                  weights=[self.embedding_matrix],\n",
        "                                  trainable=False\n",
        "                                  ))\n",
        "\n",
        "        lstm.add(layers.Bidirectional(layers.LSTM(250, return_sequences=True)))\n",
        "        lstm.add(layers.LSTM(64, return_sequences=True))\n",
        "        lstm.add(layers.TimeDistributed(layers.Dense(self.num_labels, activation=\"softmax\")))\n",
        "        lstm.compile(**self.compile_info)\n",
        "        lstm.summary()\n",
        "        return lstm\n",
        "\n",
        "    def create_two_Dense(self) -> keras.Model:\n",
        "        lstm = keras.models.Sequential()\n",
        "        lstm.add(layers.Embedding(input_dim=len(self.value_to_key.keys()),\n",
        "                                  output_dim=self.embedding_dim,\n",
        "                                  input_length=self.max_seq_len,\n",
        "                                  mask_zero=True,\n",
        "                                  weights=[self.embedding_matrix],\n",
        "                                  trainable=False\n",
        "                                  ))\n",
        "        lstm.add(layers.Bidirectional(layers.LSTM(250, return_sequences=True)))\n",
        "        lstm.add(layers.TimeDistributed(layers.Dense(128, activation=\"relu\")))\n",
        "        lstm.add(layers.TimeDistributed(layers.Dense(self.num_labels, activation=\"softmax\")))\n",
        "        lstm.compile(**self.compile_info)\n",
        "        lstm.summary()\n",
        "        return lstm\n",
        "\n",
        "    def show_history(self, history: keras.callbacks.History):\n",
        "\n",
        "        history_data = history.history\n",
        "        print(\"Displaying the following history keys: \", history_data.keys())\n",
        "\n",
        "        for key, value in history_data.items():\n",
        "            if not key.startswith('val'):\n",
        "                fig, ax = plt.subplots(1, 1)\n",
        "                ax.set_title(key)\n",
        "                ax.plot(value)\n",
        "                if 'val_{}'.format(key) in history_data:\n",
        "                    ax.plot(history_data['val_{}'.format(key)])\n",
        "                else:\n",
        "                    print(\"Couldn't find validation values for metric: \", key)\n",
        "\n",
        "                ax.set_ylabel(key)\n",
        "                ax.set_xlabel('epoch')\n",
        "                ax.legend(['train', 'val'], loc='best')\n",
        "\n",
        "        plt.show()\n",
        "\n",
        "    def train_model(self,\n",
        "                    x_train: np.ndarray,\n",
        "                    y_train: np.ndarray,\n",
        "                    x_val: np.ndarray,\n",
        "                    y_val: np.ndarray,\n",
        "                    training_info: dict):\n",
        "\n",
        "        print(\"Start training! \\nParameters: {}\".format(training_info))\n",
        "        history = self.model.fit(x=x_train, y=y_train,\n",
        "                                 validation_data=(x_val, y_val),\n",
        "                                 **training_info)\n",
        "        print(\"Training completed! Showing history...\")\n",
        "\n",
        "        self.show_history(history)\n",
        "\n",
        "    def predict_data(self,\n",
        "                      x: np.ndarray,\n",
        "                      prediction_info: dict) -> np.ndarray:\n",
        "\n",
        "        print('Starting prediction: \\n{}'.format(prediction_info))\n",
        "        print('Predicting on {} samples'.format(x.shape[0]))\n",
        "\n",
        "        predictions = self.model.predict(x, **prediction_info)\n",
        "        return predictions"
      ],
      "execution_count": 7,
      "outputs": []
    },
    {
      "cell_type": "markdown",
      "metadata": {
        "id": "ePav_t9Ham6U"
      },
      "source": [
        "#MAIN"
      ]
    },
    {
      "cell_type": "code",
      "metadata": {
        "id": "tXHka6Viamc6",
        "colab": {
          "base_uri": "https://localhost:8080/"
        },
        "outputId": "3468d237-5fac-4cb2-ff0b-f1082bbce048"
      },
      "source": [
        "df, max_seq_len = create_dataset()\n",
        "\n",
        "try:\n",
        "    with open(f\"glove-{EMBEDDING_SIZE}.pkl\", 'rb') as f:\n",
        "            emb_model = pickle.load(f)\n",
        "except Exception:\n",
        "    emb_model = gloader.load(f\"glove-wiki-gigaword-{EMBEDDING_SIZE}\")\n",
        "    with open(f\"glove-{EMBEDDING_SIZE}.pkl\", 'wb') as f:\n",
        "        pickle.dump(emb_model, f)\n",
        "\n",
        "glove_dict = emb_model.key_to_index\n",
        "glove_matrix = emb_model.vectors\n",
        "\n",
        "\n",
        "try:\n",
        "    with open(\"emb_mat.pkl\", 'rb') as f:\n",
        "        v4_matrix = pickle.load(f)\n",
        "    with open(\"val_to_key.pkl\", 'rb') as f:\n",
        "        v4_val_to_key = pickle.load(f)\n",
        "except Exception:\n",
        "    tokenizer = Tokenizer(df[df['split'] == 'train']['text'], EMBEDDING_SIZE, glove_dict, glove_matrix)\n",
        "    tokenizer.tokenize()\n",
        "    v2_matrix = tokenizer.build_embedding_matrix()\n",
        "    tokenizer.dataset_sentences = df[df['split'] == 'val']['text']\n",
        "    tokenizer.tokenize()\n",
        "    v3_matrix = tokenizer.build_embedding_matrix()\n",
        "    tokenizer.dataset_sentences = df[df['split'] == 'test']['text']\n",
        "    tokenizer.tokenize()\n",
        "    v4_matrix = tokenizer.build_embedding_matrix()\n",
        "    v4_val_to_key = tokenizer.get_val_to_key()\n",
        "    with open(f\"emb_mat.pkl\", 'wb') as f:\n",
        "        pickle.dump(v4_matrix, f)\n",
        "    with open(f\"val_to_key.pkl\", 'wb') as f:\n",
        "        pickle.dump(v4_val_to_key, f)\n",
        "\n",
        "v4_val_to_key.update((x, y+1) for x, y in v4_val_to_key.items())\n",
        "\n",
        "num_classes = get_num_classes(df[df['split'] == 'train'])\n",
        "x_train, y_train, tok = create_trainable(df[df['split'] == 'train'], v4_val_to_key, max_seq_len,\n",
        "                                         num_classes=num_classes)\n",
        "x_val, y_val, tok = create_trainable(df[df['split'] == 'val'], v4_val_to_key, max_seq_len, num_classes=num_classes)\n",
        "x_test, y_test, tok = create_trainable(df[df['split'] == 'test'], v4_val_to_key, max_seq_len, num_classes=num_classes)\n",
        "\n",
        "# TO NOT CONSIDER LAST BATCH\n",
        "#x_train, y_train = x_train[:(len(x_train)//BATCH_SIZE)*BATCH_SIZE], y_train[:(len(x_train)//BATCH_SIZE)*BATCH_SIZE]\n",
        "#x_val, y_val = x_val[:(len(x_val)//BATCH_SIZE)*BATCH_SIZE], y_val[:(len(x_val)//BATCH_SIZE)*BATCH_SIZE]"
      ],
      "execution_count": 8,
      "outputs": [
        {
          "output_type": "stream",
          "name": "stdout",
          "text": [
            "Extracting dataset... (it may take a while...)\n",
            "Extraction completed!\n"
          ]
        },
        {
          "output_type": "stream",
          "name": "stderr",
          "text": [
            "199it [00:00, 559.19it/s]\n"
          ]
        },
        {
          "output_type": "stream",
          "name": "stdout",
          "text": [
            "0\n",
            "7481\n",
            "7481\n"
          ]
        },
        {
          "output_type": "stream",
          "name": "stderr",
          "text": [
            "100%|██████████| 7481/7481 [00:00<00:00, 512755.96it/s]\n"
          ]
        },
        {
          "output_type": "stream",
          "name": "stdout",
          "text": [
            "7481\n",
            "2434\n",
            "9915\n"
          ]
        },
        {
          "output_type": "stream",
          "name": "stderr",
          "text": [
            "100%|██████████| 2434/2434 [00:00<00:00, 361122.60it/s]\n"
          ]
        },
        {
          "output_type": "stream",
          "name": "stdout",
          "text": [
            "9915\n",
            "1032\n",
            "10947\n"
          ]
        },
        {
          "output_type": "stream",
          "name": "stderr",
          "text": [
            "100%|██████████| 1032/1032 [00:00<00:00, 181573.13it/s]\n"
          ]
        }
      ]
    },
    {
      "cell_type": "code",
      "source": [
        "print(glove_matrix[glove_dict[\"the\"]])\n",
        "print(v4_matrix[30:40])"
      ],
      "metadata": {
        "colab": {
          "base_uri": "https://localhost:8080/"
        },
        "id": "ejKvTBPXExSW",
        "outputId": "383a4b9c-3798-4974-c913-2edc35aebc5f"
      },
      "execution_count": 9,
      "outputs": [
        {
          "output_type": "stream",
          "name": "stdout",
          "text": [
            "[ 4.1800e-01  2.4968e-01 -4.1242e-01  1.2170e-01  3.4527e-01 -4.4457e-02\n",
            " -4.9688e-01 -1.7862e-01 -6.6023e-04 -6.5660e-01  2.7843e-01 -1.4767e-01\n",
            " -5.5677e-01  1.4658e-01 -9.5095e-03  1.1658e-02  1.0204e-01 -1.2792e-01\n",
            " -8.4430e-01 -1.2181e-01 -1.6801e-02 -3.3279e-01 -1.5520e-01 -2.3131e-01\n",
            " -1.9181e-01 -1.8823e+00 -7.6746e-01  9.9051e-02 -4.2125e-01 -1.9526e-01\n",
            "  4.0071e+00 -1.8594e-01 -5.2287e-01 -3.1681e-01  5.9213e-04  7.4449e-03\n",
            "  1.7778e-01 -1.5897e-01  1.2041e-02 -5.4223e-02 -2.9871e-01 -1.5749e-01\n",
            " -3.4758e-01 -4.5637e-02 -4.4251e-01  1.8785e-01  2.7849e-03 -1.8411e-01\n",
            " -1.1514e-01 -7.8581e-01]\n",
            "[[ 4.69584628e-02  2.75132823e-02  4.39498942e-02  3.94827350e-02\n",
            "   9.78999788e-03  4.21874235e-02 -4.11507498e-02 -3.04017138e-02\n",
            "  -4.54772711e-02 -1.74669669e-02 -1.11322710e-02 -2.28650968e-02\n",
            "   3.28737509e-02 -1.43246673e-02 -2.19065490e-02  4.26960832e-03\n",
            "  -3.59075775e-02  3.02196981e-02 -4.25449356e-02  4.86886937e-02\n",
            "   2.72244769e-02 -3.01284318e-02 -4.94477883e-02  3.15461428e-02\n",
            "   2.06857344e-02  2.29007168e-02  2.71270347e-02 -4.25955348e-02\n",
            "  -1.41534271e-02 -3.84130940e-02  3.63103426e-02  1.23298127e-02\n",
            "  -1.69101975e-02 -4.36441650e-02 -1.89017678e-02 -1.74816678e-02\n",
            "   2.29606178e-02  1.37557471e-02  3.87212743e-02 -2.77850748e-03\n",
            "  -3.80405754e-02  2.13244787e-02  2.60785049e-02  6.12771976e-03\n",
            "   2.70967180e-02 -6.20440364e-04  2.27328294e-03 -7.24589816e-03\n",
            "  -4.74580873e-02 -3.92108573e-02]\n",
            " [-1.12539995e+00  4.59010005e-01  3.53520006e-01  2.75370002e-01\n",
            "   3.09410006e-01  5.17120004e-01 -1.42519999e+00 -2.09849998e-01\n",
            "   4.48159993e-01 -9.81410027e-01 -5.88750005e-01  4.46079999e-01\n",
            "  -1.47720003e+00 -1.11819994e+00  4.22010005e-01 -2.49760002e-01\n",
            "   8.17080021e-01  3.50579992e-02 -5.69389999e-01 -1.21700001e+00\n",
            "  -4.58059996e-01  5.25340021e-01 -3.01869988e-01 -8.60019960e-03\n",
            "   8.15379977e-01 -2.98229992e-01  9.75480005e-02 -4.00649995e-01\n",
            "   1.35460004e-01 -9.06279981e-02  3.17389995e-01 -8.21839988e-01\n",
            "  -1.28560007e-01  1.67490005e-01  8.52930009e-01 -3.77519995e-01\n",
            "   6.96600020e-01  3.92130017e-02  3.41250002e-01  4.62859988e-01\n",
            "  -1.30370006e-01  2.50860006e-01 -6.03559971e-01 -2.52499998e-01\n",
            "   5.20640016e-01  3.41210008e-01 -2.20489994e-01 -6.50709987e-01\n",
            "   1.45789996e-01  6.76140010e-01]\n",
            " [-5.25170028e-01 -7.77440012e-01 -5.86369991e-01  4.59479988e-01\n",
            "   1.47599995e+00 -1.58329993e-01 -4.72600013e-01  1.68970004e-01\n",
            "   9.54079986e-01  3.93500000e-01  2.12709993e-01  1.09319997e+00\n",
            "  -1.08250000e-01  7.86239982e-01 -1.69400007e-01  2.73330003e-01\n",
            "   8.07929993e-01 -3.77380013e-01 -1.47969997e+00 -5.21719992e-01\n",
            "  -8.24999988e-01 -3.28689992e-01  5.09060025e-01 -2.85450011e-01\n",
            "   4.75450009e-01 -8.54040027e-01  5.76569974e-01  2.97459990e-01\n",
            "   5.20259976e-01 -8.11259985e-01  1.68410003e+00  2.43379995e-01\n",
            "   5.35090029e-01  1.44459999e+00  6.65730000e-01 -5.99430017e-02\n",
            "   9.53930020e-01  2.17869997e-01 -3.14889997e-02  4.82210010e-01\n",
            "  -7.50280023e-01  4.94349986e-01 -1.04030001e+00  1.17079997e+00\n",
            "   1.67600006e-01  7.91390002e-01 -4.39819992e-01 -5.48099995e-01\n",
            "   4.58139986e-01 -3.37089986e-01]\n",
            " [-2.51830012e-01  4.20749992e-01  1.33530006e-01 -8.25110018e-01\n",
            "  -2.02999994e-01 -6.38580024e-02 -1.01400006e+00  5.29020011e-01\n",
            "  -4.28869992e-01 -1.48790002e+00 -1.11560002e-01 -1.13329999e-01\n",
            "   9.18139983e-03  1.27960002e+00 -3.23850006e-01 -2.99549997e-01\n",
            "   1.97950006e-01  2.25489996e-02 -3.04720014e-01 -1.22150004e+00\n",
            "   5.67719996e-01  2.00549997e-02 -1.08329999e+00  2.85860002e-01\n",
            "  -3.44139989e-03 -2.41449997e-01  3.79440010e-01  3.25250000e-01\n",
            "   8.51629972e-01 -1.30159998e+00  6.12370014e-01  7.75129974e-01\n",
            "  -5.46800017e-01  7.92450011e-02 -1.00339997e+00 -5.28860018e-02\n",
            "   8.48599970e-01 -1.14499998e+00 -9.29929972e-01  9.63199973e-01\n",
            "   7.87509978e-03 -4.64520007e-01  1.73639998e-01 -2.34660003e-02\n",
            "  -9.96920019e-02 -1.24489999e+00 -1.84750006e-01 -2.40410000e-01\n",
            "  -1.24409997e+00  8.48110020e-02]\n",
            " [ 2.65170008e-01 -1.46909997e-01  2.68849999e-01  4.38539982e-02\n",
            "  -2.84189999e-01  8.30550015e-01 -4.66149986e-01 -7.07610011e-01\n",
            "   8.35959971e-01  1.38610005e+00  4.23830003e-01 -3.11980009e-01\n",
            "   3.59169990e-01 -1.16750002e-01  4.76729989e-01 -2.85629988e-01\n",
            "   4.46599990e-01  1.28849995e+00 -1.70080006e-01 -8.83539975e-01\n",
            "   7.23169982e-01 -5.83959997e-01  8.74260008e-01 -2.47099996e-01\n",
            "  -1.35319993e-01 -4.57810014e-01 -1.23599999e-01  1.50179997e-01\n",
            "   5.51779985e-01  6.67999983e-02  2.95359993e+00 -4.20619994e-01\n",
            "   3.97469997e-01 -3.94199997e-01  2.96840012e-01  5.13930023e-01\n",
            "  -4.53319997e-01  9.56770003e-01 -3.14060003e-01  7.04680011e-02\n",
            "   1.57709997e-02 -4.54769991e-02 -6.24939986e-03 -7.70519972e-01\n",
            "   3.11930001e-01  3.52279991e-01 -2.93689996e-01  1.70509994e-01\n",
            "  -9.79659975e-01 -1.47340000e-01]\n",
            " [-4.68570814e-02  1.36410411e-02 -1.85644019e-02  8.57069116e-04\n",
            "   4.07566474e-02 -2.50707771e-02 -8.96170770e-03  2.55551139e-02\n",
            "  -2.71201835e-02 -4.23020090e-02 -2.10248547e-02 -3.38778713e-02\n",
            "   4.29697652e-02  3.08120380e-02  1.33403757e-02  3.71460590e-02\n",
            "   3.03672077e-02 -3.13429941e-02  3.92558998e-02  3.93422419e-03\n",
            "   3.07440155e-02  3.96091300e-02 -1.81996525e-02 -3.89948075e-02\n",
            "  -2.72064837e-02 -7.28922114e-03  3.18014766e-02  3.60730583e-02\n",
            "  -4.93047869e-02  1.07473026e-03 -8.25889969e-03 -2.77892190e-02\n",
            "  -3.80134633e-02 -1.62384829e-02  4.42909704e-02 -1.76797068e-02\n",
            "   1.87906217e-03  2.03018959e-02 -1.36370398e-02  4.71782083e-02\n",
            "   4.62447295e-02 -2.48217704e-02 -2.75149411e-04 -1.99121690e-02\n",
            "  -2.15159506e-02 -4.63113053e-02  1.09564334e-02  2.67902323e-04\n",
            "  -4.48521249e-02 -2.21353536e-02]\n",
            " [-3.02289993e-01  1.11860001e+00 -2.87699997e-01 -2.73930013e-01\n",
            "  -8.22469965e-02  1.17909998e-01 -4.35490012e-01  3.08059990e-01\n",
            "  -5.47060013e-01  2.85890013e-01 -1.44360006e-01  1.05429995e+00\n",
            "  -6.80719972e-01  1.37610003e-01 -1.36830002e-01 -3.38609993e-01\n",
            "   6.52809978e-01 -1.31119996e-01 -1.01730001e+00  5.19209988e-02\n",
            "   6.76150024e-01 -1.29549995e-01  2.76450008e-01 -4.67700005e-01\n",
            "  -5.21669984e-01 -1.09440005e+00  3.49659994e-02 -3.41930002e-01\n",
            "  -1.27959996e-01 -1.08250000e-01 -3.24939996e-01 -6.26320004e-01\n",
            "  -2.89359987e-01 -8.74040008e-01  2.13450000e-01 -9.08349991e-01\n",
            "   7.06110001e-02  4.56979990e-01  6.59009993e-01  1.18229997e+00\n",
            "  -2.48410001e-01  8.76450002e-01  8.79610032e-02 -7.11070001e-01\n",
            "   2.87690014e-01 -3.14799994e-02 -6.34840012e-01 -8.87619972e-01\n",
            "  -3.49810004e-01  1.15610003e+00]\n",
            " [ 4.08265886e-02 -2.60438109e-02 -3.55105128e-02 -1.05472397e-03\n",
            "   4.85650454e-02 -2.57944728e-02  1.72135547e-02  2.61619615e-02\n",
            "  -2.62362456e-02  2.28216349e-02 -1.32216867e-02  1.32305831e-02\n",
            "   1.33529711e-02  3.57746841e-03 -4.09710230e-02  3.35302496e-02\n",
            "  -1.79219935e-02 -3.13481490e-02 -4.59224858e-02  9.08929432e-03\n",
            "   1.77564362e-02 -4.83412171e-02  1.20930583e-03 -2.73504225e-02\n",
            "   1.45172790e-02 -3.25633571e-02  1.90937738e-02 -1.13264654e-02\n",
            "   4.36729989e-02 -3.62479056e-02 -1.58933649e-02 -3.86526479e-02\n",
            "   4.24693618e-02  3.77339353e-02 -2.42058372e-02  1.59984046e-02\n",
            "   3.17222200e-02  5.52008116e-03  2.96505784e-03 -2.58147709e-02\n",
            "  -4.06897232e-02  3.97215758e-02  4.00418057e-02  1.33101457e-02\n",
            "  -1.60970209e-02 -1.50790425e-02  2.25955679e-02  3.97110260e-02\n",
            "   3.87086424e-02  2.79875546e-02]\n",
            " [ 1.42031646e-02 -4.15860035e-02 -3.38371286e-02  3.98554189e-02\n",
            "   1.06429060e-02 -4.90802948e-02 -3.98528457e-02  1.63501769e-02\n",
            "  -4.94938416e-02 -3.39191949e-02  4.87337894e-03  1.91895198e-02\n",
            "   1.51961260e-02 -2.75730691e-02  2.12179221e-02 -2.62750913e-02\n",
            "  -1.74600302e-02  2.46491405e-02  1.49632899e-02  3.49223410e-02\n",
            "   1.57612892e-02  6.83086033e-03 -4.06325232e-02 -1.32284197e-02\n",
            "  -2.34797632e-02 -2.56010357e-02  4.73010555e-02 -1.06902275e-02\n",
            "   3.92046555e-02  1.31138626e-02  2.94811304e-02  2.63709311e-04\n",
            "   7.69038846e-03 -7.48230618e-04 -3.04757012e-02  2.22452115e-02\n",
            "  -2.19227638e-02 -4.75684034e-02  1.45472296e-02 -3.22889321e-02\n",
            "   4.40458584e-02  4.53928577e-02  4.14864390e-02 -1.29841300e-02\n",
            "  -4.84543383e-02  4.28318563e-02 -7.18158517e-03  4.66654819e-02\n",
            "   4.63619977e-02  3.53009455e-02]\n",
            " [ 1.04989998e-01  3.95760015e-02  2.52950013e-01 -9.97759998e-01\n",
            "   4.71929997e-01 -1.06120002e+00 -9.75019991e-01 -3.11340004e-01\n",
            "   1.64240003e-01 -2.27709994e-01 -1.58319998e+00 -5.20399988e-01\n",
            "  -1.04509997e+00 -4.64240015e-01 -7.58639991e-01 -4.04359996e-01\n",
            "  -9.47280005e-02 -5.72130024e-01 -7.52139986e-01 -6.48620009e-01\n",
            "   1.37339997e+00 -2.02959999e-01 -9.87129986e-01  6.30519986e-01\n",
            "  -4.08430010e-01 -1.41550004e+00 -2.71490008e-01  6.37769997e-01\n",
            "   7.19010010e-02 -2.99190015e-01  2.79740000e+00 -2.25490004e-01\n",
            "   1.23000002e+00 -2.79570013e-01 -1.36170000e-01 -6.53379977e-01\n",
            "  -2.06330009e-02 -6.39349997e-01  1.29920006e-01 -6.47099987e-02\n",
            "  -4.13599998e-01  1.50300004e-02 -4.64949995e-01 -3.63110006e-01\n",
            "   3.50670010e-01  5.34300029e-01 -9.40850005e-03 -1.85899997e+00\n",
            "   6.73129976e-01 -2.58779991e-03]]\n"
          ]
        }
      ]
    },
    {
      "cell_type": "markdown",
      "metadata": {
        "id": "s99TcYeDa1y9"
      },
      "source": [
        "#TRAIN VARIOUS MODELS"
      ]
    },
    {
      "cell_type": "code",
      "metadata": {
        "id": "y1w997vca49D",
        "colab": {
          "base_uri": "https://localhost:8080/",
          "height": 1000
        },
        "outputId": "0ed6dcd6-2bd3-49cb-d08f-c4b278f13a79"
      },
      "source": [
        "compile_info = {\n",
        "    'optimizer': keras.optimizers.Adam(learning_rate=1e-3),\n",
        "    'loss': 'categorical_crossentropy',\n",
        "    'metrics': ['accuracy']\n",
        "}\n",
        "\n",
        "training_info = {\n",
        "    'verbose': 1,\n",
        "    'epochs': 10,\n",
        "    'batch_size': BATCH_SIZE,\n",
        "    'callbacks': [keras.callbacks.EarlyStopping(monitor='val_accuracy',\n",
        "                                                patience=10)]\n",
        "}\n",
        "\n",
        "model_params = {\n",
        "    'compile_info': compile_info,\n",
        "    'value_to_key': v4_val_to_key,\n",
        "    'embedding_dim': EMBEDDING_SIZE,\n",
        "    'max_seq_len': max_seq_len,\n",
        "    'num_labels': num_classes,\n",
        "    'embedding_matrix': np.vstack((np.zeros((1, EMBEDDING_SIZE)),\n",
        "                       v4_matrix))\n",
        "}\n",
        "\n",
        "prediction_info = {\n",
        "    'batch_size': BATCH_SIZE,\n",
        "    'verbose': 1\n",
        "}\n",
        "\n",
        "# BASELINE\n",
        "baseline = Model('baseline', **model_params)\n",
        "baseline_train = baseline.train_model(x_train=x_train, y_train=y_train,\n",
        "                             x_val=x_val, y_val=y_val, training_info=training_info)\n",
        "\n",
        "# GRU\n",
        "#gru_model = Model('gru', **model_params)\n",
        "\n",
        "#gru_train_model = Model.train_model(x_train=x_train, y_train=y_train,\n",
        "                      #              x_val=x_val, y_val=y_val, training_info=training_info)\n",
        "\n",
        "# TWO LSTM\n",
        "'''twolstm_model = Model('two_lstm', **model_params)\n",
        "                                      \n",
        "twolstm_train_model = Model.train_model(x_train=x_train, y_train=y_train,\n",
        "        x_val=x_val, y_val=y_val, training_info=training_info)\n",
        "\n",
        "# TWO DENSE\n",
        "twodense_model = Model('two_dense', **model_params)\n",
        "\n",
        "twodense_train_model = Model.train_model(x_train=x_train, y_train=y_train,\n",
        "                                    x_val=x_val, y_val=y_val, training_info=training_info)'''\n",
        "\n"
      ],
      "execution_count": 10,
      "outputs": [
        {
          "output_type": "stream",
          "name": "stdout",
          "text": [
            "Model: \"sequential\"\n",
            "_________________________________________________________________\n",
            " Layer (type)                Output Shape              Param #   \n",
            "=================================================================\n",
            " embedding (Embedding)       (None, 250, 50)           547400    \n",
            "                                                                 \n",
            " bidirectional (Bidirectiona  (None, 250, 64)          21248     \n",
            " l)                                                              \n",
            "                                                                 \n",
            " time_distributed (TimeDistr  (None, 250, 46)          2990      \n",
            " ibuted)                                                         \n",
            "                                                                 \n",
            "=================================================================\n",
            "Total params: 571,638\n",
            "Trainable params: 24,238\n",
            "Non-trainable params: 547,400\n",
            "_________________________________________________________________\n",
            "Start training! \n",
            "Parameters: {'verbose': 1, 'epochs': 10, 'batch_size': 64, 'callbacks': [<keras.callbacks.EarlyStopping object at 0x7f05a9f284d0>]}\n",
            "Epoch 1/10\n",
            "31/31 [==============================] - 23s 582ms/step - loss: 0.3398 - accuracy: 0.1144 - val_loss: 0.3282 - val_accuracy: 0.0426\n",
            "Epoch 2/10\n",
            "31/31 [==============================] - 16s 511ms/step - loss: 0.2777 - accuracy: 0.2268 - val_loss: 0.3353 - val_accuracy: 0.0778\n",
            "Epoch 3/10\n",
            "31/31 [==============================] - 15s 490ms/step - loss: 0.2452 - accuracy: 0.3595 - val_loss: 0.3400 - val_accuracy: 0.1004\n",
            "Epoch 4/10\n",
            "31/31 [==============================] - 15s 490ms/step - loss: 0.2135 - accuracy: 0.4596 - val_loss: 0.3495 - val_accuracy: 0.0984\n",
            "Epoch 5/10\n",
            "31/31 [==============================] - 15s 492ms/step - loss: 0.1843 - accuracy: 0.5261 - val_loss: 0.3631 - val_accuracy: 0.1028\n",
            "Epoch 6/10\n",
            "31/31 [==============================] - 15s 486ms/step - loss: 0.1605 - accuracy: 0.5837 - val_loss: 0.3810 - val_accuracy: 0.1044\n",
            "Epoch 7/10\n",
            "31/31 [==============================] - 16s 506ms/step - loss: 0.1422 - accuracy: 0.6324 - val_loss: 0.3985 - val_accuracy: 0.1063\n",
            "Epoch 8/10\n",
            "31/31 [==============================] - 15s 490ms/step - loss: 0.1286 - accuracy: 0.6759 - val_loss: 0.4164 - val_accuracy: 0.1056\n",
            "Epoch 9/10\n",
            "31/31 [==============================] - 15s 487ms/step - loss: 0.1179 - accuracy: 0.7019 - val_loss: 0.4318 - val_accuracy: 0.1067\n",
            "Epoch 10/10\n",
            "31/31 [==============================] - 15s 487ms/step - loss: 0.1095 - accuracy: 0.7206 - val_loss: 0.4466 - val_accuracy: 0.1070\n",
            "Training completed! Showing history...\n",
            "Displaying the following history keys:  dict_keys(['loss', 'accuracy', 'val_loss', 'val_accuracy'])\n"
          ]
        },
        {
          "output_type": "display_data",
          "data": {
            "image/png": "[encoded data removed]",
            "text/plain": [
              "<Figure size 432x288 with 1 Axes>"
            ]
          },
          "metadata": {
            "needs_background": "light"
          }
        },
        {
          "output_type": "display_data",
          "data": {
            "image/png": "[encoded data removed]",
            "text/plain": [
              "<Figure size 432x288 with 1 Axes>"
            ]
          },
          "metadata": {
            "needs_background": "light"
          }
        },
        {
          "output_type": "execute_result",
          "data": {
            "application/vnd.google.colaboratory.intrinsic+json": {
              "type": "string"
            },
            "text/plain": [
              "\"twolstm_model = Model('two_lstm', **model_params)\\n                                      \\ntwolstm_train_model = Model.train_model(x_train=x_train, y_train=y_train,\\n        x_val=x_val, y_val=y_val, training_info=training_info)\\n\\n# TWO DENSE\\ntwodense_model = Model('two_dense', **model_params)\\n\\ntwodense_train_model = Model.train_model(x_train=x_train, y_train=y_train,\\n                                    x_val=x_val, y_val=y_val, training_info=training_info)\""
            ]
          },
          "metadata": {},
          "execution_count": 10
        }
      ]
    },
    {
      "cell_type": "markdown",
      "metadata": {
        "id": "J-0ZF_-txf19"
      },
      "source": [
        "#EVALUATION"
      ]
    },
    {
      "cell_type": "code",
      "metadata": {
        "id": "cF91AoyqxlqS"
      },
      "source": [
        "#funzione per togliere la punteggiatura"
      ],
      "execution_count": 11,
      "outputs": []
    },
    {
      "cell_type": "code",
      "metadata": {
        "id": "wOYgCry6xZ6A",
        "colab": {
          "base_uri": "https://localhost:8080/"
        },
        "outputId": "b413f9b3-ff16-437d-a465-e42e1fde8c9a"
      },
      "source": [
        "#bisogna togliere la punteggiatura\n",
        "y_pred = baseline.predict_data(x_test, prediction_info=prediction_info)\n",
        "y_pred = [np.argmax(el) for el in y_pred]  # from one hot to label index\n",
        "y_true = [np.argmax(el) for el in y_test]\n",
        "f1_score = f1_score(y_true, y_pred, average='macro')\n",
        "print(f1_score)"
      ],
      "execution_count": 12,
      "outputs": [
        {
          "output_type": "stream",
          "name": "stdout",
          "text": [
            "Starting prediction: \n",
            "{'batch_size': 64, 'verbose': 1}\n",
            "Predicting on 644 samples\n",
            "11/11 [==============================] - 3s 106ms/step\n",
            "0.0024740622505985636\n"
          ]
        }
      ]
    },
    {
      "cell_type": "code",
      "source": [
        ""
      ],
      "metadata": {
        "id": "4r2wFA0_4gnc"
      },
      "execution_count": 12,
      "outputs": []
    }
  ]
}