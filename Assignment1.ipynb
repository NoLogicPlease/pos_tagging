{
  "nbformat": 4,
  "nbformat_minor": 0,
  "metadata": {
    "colab": {
      "name": "Assignment1.ipynb",
      "provenance": [],
      "collapsed_sections": [],
      "toc_visible": true
    },
    "kernelspec": {
      "name": "python3",
      "display_name": "Python 3"
    },
    "language_info": {
      "name": "python"
    },
    "accelerator": "GPU"
  },
  "cells": [
    {
      "cell_type": "markdown",
      "metadata": {
        "id": "V2ADs98pXS5A"
      },
      "source": [
        "#IMPORTS"
      ]
    },
    {
      "cell_type": "code",
      "metadata": {
        "id": "2J_G319uWdaq"
      },
      "source": [
        "import tensorflow as tf\n",
        "from tensorflow import keras\n",
        "from tensorflow.keras import layers\n",
        "from tensorflow.keras.callbacks import LearningRateScheduler\n",
        "from tensorflow.keras.regularizers import l2\n",
        "\n",
        "import copy\n",
        "import os\n",
        "import re\n",
        "import math\n",
        "import tarfile\n",
        "import zipfile\n",
        "import random\n",
        "import numpy as np\n",
        "import pandas as pd\n",
        "from tqdm import tqdm\n",
        "from urllib import request\n",
        "import collections\n",
        "import sklearn.metrics as sk_metrics\n",
        "import matplotlib.pyplot as plt\n",
        "import pickle"
      ],
      "execution_count": 1,
      "outputs": []
    },
    {
      "cell_type": "code",
      "source": [
        "# In order to use key_to_index attribute from the embedding model\n",
        "! pip install gensim==4.1.2\n",
        "import gensim\n",
        "import gensim.downloader as gloader"
      ],
      "metadata": {
        "colab": {
          "base_uri": "https://localhost:8080/"
        },
        "id": "KLk3I9e-KJ5h",
        "outputId": "4db24b95-ba17-4093-cbe6-99abcc20b53f"
      },
      "execution_count": 2,
      "outputs": [
        {
          "output_type": "stream",
          "name": "stdout",
          "text": [
            "Requirement already satisfied: gensim==4.1.2 in /usr/local/lib/python3.7/dist-packages (4.1.2)\n",
            "Requirement already satisfied: scipy>=0.18.1 in /usr/local/lib/python3.7/dist-packages (from gensim==4.1.2) (1.4.1)\n",
            "Requirement already satisfied: numpy>=1.17.0 in /usr/local/lib/python3.7/dist-packages (from gensim==4.1.2) (1.19.5)\n",
            "Requirement already satisfied: smart-open>=1.8.1 in /usr/local/lib/python3.7/dist-packages (from gensim==4.1.2) (5.2.1)\n"
          ]
        }
      ]
    },
    {
      "cell_type": "code",
      "source": [
        "! pip install matplotlib==3.5.0"
      ],
      "metadata": {
        "colab": {
          "base_uri": "https://localhost:8080/"
        },
        "id": "LNjsqN9WZb7-",
        "outputId": "9a327c71-47c7-483a-d610-272c10e5de95"
      },
      "execution_count": 3,
      "outputs": [
        {
          "output_type": "stream",
          "name": "stdout",
          "text": [
            "Requirement already satisfied: matplotlib==3.5.0 in /usr/local/lib/python3.7/dist-packages (3.5.0)\n",
            "Requirement already satisfied: pillow>=6.2.0 in /usr/local/lib/python3.7/dist-packages (from matplotlib==3.5.0) (7.1.2)\n",
            "Requirement already satisfied: python-dateutil>=2.7 in /usr/local/lib/python3.7/dist-packages (from matplotlib==3.5.0) (2.8.2)\n",
            "Requirement already satisfied: numpy>=1.17 in /usr/local/lib/python3.7/dist-packages (from matplotlib==3.5.0) (1.19.5)\n",
            "Requirement already satisfied: packaging>=20.0 in /usr/local/lib/python3.7/dist-packages (from matplotlib==3.5.0) (21.3)\n",
            "Requirement already satisfied: cycler>=0.10 in /usr/local/lib/python3.7/dist-packages (from matplotlib==3.5.0) (0.11.0)\n",
            "Requirement already satisfied: setuptools-scm>=4 in /usr/local/lib/python3.7/dist-packages (from matplotlib==3.5.0) (6.3.2)\n",
            "Requirement already satisfied: fonttools>=4.22.0 in /usr/local/lib/python3.7/dist-packages (from matplotlib==3.5.0) (4.28.3)\n",
            "Requirement already satisfied: kiwisolver>=1.0.1 in /usr/local/lib/python3.7/dist-packages (from matplotlib==3.5.0) (1.3.2)\n",
            "Requirement already satisfied: pyparsing>=2.2.1 in /usr/local/lib/python3.7/dist-packages (from matplotlib==3.5.0) (3.0.6)\n",
            "Requirement already satisfied: six>=1.5 in /usr/local/lib/python3.7/dist-packages (from python-dateutil>=2.7->matplotlib==3.5.0) (1.15.0)\n",
            "Requirement already satisfied: tomli>=1.0.0 in /usr/local/lib/python3.7/dist-packages (from setuptools-scm>=4->matplotlib==3.5.0) (1.2.2)\n",
            "Requirement already satisfied: setuptools in /usr/local/lib/python3.7/dist-packages (from setuptools-scm>=4->matplotlib==3.5.0) (57.4.0)\n"
          ]
        }
      ]
    },
    {
      "cell_type": "code",
      "metadata": {
        "id": "94EeD6PDYehe"
      },
      "source": [
        "EMBEDDING_SIZE = 100\n",
        "BATCH_SIZE = 64"
      ],
      "execution_count": 4,
      "outputs": []
    },
    {
      "cell_type": "code",
      "metadata": {
        "id": "dBnbipknZFiz"
      },
      "source": [
        "def fix_random(seed: int) -> None:\n",
        "    \"\"\"Fix all the possible sources of randomness.\n",
        "\n",
        "    Args:\n",
        "        seed: the seed to use. \n",
        "    \"\"\"\n",
        "    np.random.seed(seed)\n",
        "    random.seed(seed)    \n",
        "    \n",
        "fix_random(42)"
      ],
      "execution_count": 5,
      "outputs": []
    },
    {
      "cell_type": "markdown",
      "metadata": {
        "id": "emVCaVMrZU2l"
      },
      "source": [
        "#PRE-PROCESSING"
      ]
    },
    {
      "cell_type": "code",
      "metadata": {
        "colab": {
          "base_uri": "https://localhost:8080/"
        },
        "id": "wWbdix6EZUJX",
        "outputId": "dbfb243c-2ab4-4802-b6cb-62f5bd942aef"
      },
      "source": [
        "def download_dataset(download_path: str, url: str):  # download dataset\n",
        "    if not os.path.exists(download_path):\n",
        "        print(\"Downloading dataset...\")\n",
        "        request.urlretrieve(url, download_path)\n",
        "        print(\"Download complete!\")\n",
        "\n",
        "\n",
        "def extract_dataset(download_path: str, extract_path: str):  # extract dataset\n",
        "    print(\"Extracting dataset... (it may take a while...)\")\n",
        "    with zipfile.ZipFile(download_path, 'r') as loaded_zip:\n",
        "        loaded_zip.extractall(extract_path)\n",
        "    print(\"Extraction completed!\")\n",
        "\n",
        "\n",
        "def encode_dataset(dataset_path: str, dataset_folder: str, debug: bool = True) -> (\n",
        "        pd.DataFrame, int):  # dataset to dataframe\n",
        "    dataframe_rows = []\n",
        "    s_lengths_orig = []\n",
        "    s_lengths_clean = []\n",
        "    deleted = 0\n",
        "    for index, file in tqdm(enumerate(sorted(os.listdir(dataset_path)))):\n",
        "        file_name = os.path.join(dataset_path, file)\n",
        "        with open(file_name) as f:\n",
        "            lines = f.readlines()\n",
        "        full_file = ''.join(lines)  # since lines is a list we use a single string called full_file\n",
        "\n",
        "        full_file = re.sub(r'(\\t\\d+)', '', full_file)  # remove numbers from each lines of dataset\n",
        "        full_file = re.sub(r'(\\t)', ' ', full_file)  # replace \\t with a space\n",
        "        sentences = full_file.split('\\n\\n')\n",
        "        for s in sentences:  # separate all words from their tags\n",
        "            text = ''.join(re.findall(r'.+ ', s))\n",
        "            labels = ''.join(re.findall(r' .+', s))\n",
        "            labels = re.sub(r' (.+)', r'\\1 ', labels)\n",
        "            labels = re.sub('\\n', ' ', labels)\n",
        "            s_lengths_orig.append(len(labels.split(' ')))\n",
        "            # split into train, val and test\n",
        "            if index <= 100:\n",
        "                split = 'train'\n",
        "            elif 100 < index <= 150:\n",
        "                split = 'val'\n",
        "            else:\n",
        "                split = 'test'\n",
        "\n",
        "            if len(labels.split(' ')) <= 50:\n",
        "                # create a single row of dataframe\n",
        "                s_lengths_clean.append(len(labels.split(' ')))\n",
        "                dataframe_row = {\n",
        "                    \"text\": text,\n",
        "                    \"POStagging\": labels,\n",
        "                    \"split\": split,\n",
        "                }\n",
        "                dataframe_rows.append(dataframe_row)\n",
        "            else:\n",
        "                deleted += 1\n",
        "\n",
        "    print(f\"We deleted {deleted} sentences!\")\n",
        "    print(f\"The dataset has on average {np.mean(s_lengths_orig)} words per sentence\")\n",
        "    plt.title(\"Boxplot of word counts per sentence\")\n",
        "    plt.boxplot(s_lengths_orig)\n",
        "    plt.show()\n",
        "    # transform the list of rows in a proper dataframe\n",
        "    df = pd.DataFrame(dataframe_rows)\n",
        "    df = df[[\"text\",\n",
        "             \"POStagging\",\n",
        "             \"split\"]]\n",
        "    dataframe_path = os.path.join(dataset_folder, \"dependency_treebank_df.pkl\")\n",
        "    df.to_pickle(dataframe_path)\n",
        "    return df, max(s_lengths_clean)\n",
        "\n",
        "\n",
        "def create_dataset():\n",
        "    dataset_folder = os.path.join(os.getcwd(), \"Datasets\")\n",
        "    if not os.path.exists(dataset_folder):\n",
        "        os.makedirs(dataset_folder)\n",
        "\n",
        "    url = \"https://raw.githubusercontent.com/nltk/nltk_data/gh-pages/packages/corpora/dependency_treebank.zip\"\n",
        "\n",
        "    dataset_path_zip = os.path.join(dataset_folder, \"dependency_treebank.zip\")\n",
        "    download_dataset(dataset_path_zip, url)\n",
        "    extract_dataset(dataset_path_zip, dataset_folder)\n",
        "    dataset_path = os.path.join(dataset_folder, \"dependency_treebank\")\n",
        "    df, max_seq_len = encode_dataset(dataset_path, dataset_folder)\n",
        "    df['POStagging'] = df['POStagging'].str.lower()\n",
        "    df['text'] = df['text'].str.lower()\n",
        "    return df, max_seq_len\n",
        "\n",
        "\n",
        "def create_trainable(dataset, value_to_key, max_seq_len, num_classes, label_tokenizer=None):\n",
        "    text_ids = [[value_to_key[word] for word in sen.split()] for sen in dataset['text']]\n",
        "    x_train = []\n",
        "    y_train = []\n",
        "    label_tokenizer = {} if label_tokenizer == None else label_tokenizer\n",
        "\n",
        "    one_hot_idx = 0\n",
        "    for sen, tagging in zip(text_ids, dataset[\"POStagging\"]):\n",
        "        tmp = [0] * (max_seq_len - len(sen)) + sen\n",
        "        x_train.append(tmp)\n",
        "\n",
        "        for label in tagging.split():\n",
        "            try:\n",
        "                check_label = label_tokenizer[label]\n",
        "            except KeyError:\n",
        "                label_tokenizer[label] = [1 if i == one_hot_idx else 0 for i in range(num_classes)]\n",
        "                one_hot_idx += 1\n",
        "\n",
        "        tmp = [[0] * num_classes] * (max_seq_len - len(sen)) + [label_tokenizer[e] for e in tagging.split()]\n",
        "        y_train.append(tmp)\n",
        "    return np.array(x_train), np.array(y_train), label_tokenizer\n",
        "\n",
        "\n",
        "def get_num_classes(dataset):\n",
        "    return len(np.unique(''.join(dataset[\"POStagging\"]).split())) + 1  # +1 for the padding\n",
        "\n",
        "#########################################\n",
        "\n",
        "try:\n",
        "    from google.colab import drive\n",
        "    IN_COLAB=True\n",
        "except:\n",
        "    IN_COLAB=False\n",
        "\n",
        "if IN_COLAB:\n",
        "    print(\"We're running Colab\")\n",
        "    # Mount the Google Drive at mount\n",
        "    mount='/content/gdrive'\n",
        "    print(\"Colab: mounting Google drive on \", mount)\n",
        "    drive.mount(mount)\n",
        "\n",
        "    # Switch to the directory on the Google Drive that you want to use\n",
        "    drive_root = mount + \"/My Drive/NLP/Assignment1\"\n",
        "    \n",
        "    # Create drive_root if it doesn't exist\n",
        "    create_drive_root = True\n",
        "    if create_drive_root:\n",
        "        print(\"\\nColab: making sure \", drive_root, \" exists.\")\n",
        "        os.makedirs(drive_root, exist_ok=True)\n",
        "    \n",
        "    # Change to the directory\n",
        "    print(\"\\nColab: Changing directory to \", drive_root)\n",
        "    %cd $drive_root\n",
        "    %pwd\n",
        "\n",
        "# To download uncomment the following: \n",
        "# download_data('dataset')"
      ],
      "execution_count": 6,
      "outputs": [
        {
          "output_type": "stream",
          "name": "stdout",
          "text": [
            "We're running Colab\n",
            "Colab: mounting Google drive on  /content/gdrive\n",
            "Drive already mounted at /content/gdrive; to attempt to forcibly remount, call drive.mount(\"/content/gdrive\", force_remount=True).\n",
            "\n",
            "Colab: making sure  /content/gdrive/My Drive/NLP/Assignment1  exists.\n",
            "\n",
            "Colab: Changing directory to  /content/gdrive/My Drive/NLP/Assignment1\n",
            "/content/gdrive/My Drive/NLP/Assignment1\n"
          ]
        }
      ]
    },
    {
      "cell_type": "markdown",
      "metadata": {
        "id": "f906py0bZ58D"
      },
      "source": [
        "#CLASSES"
      ]
    },
    {
      "cell_type": "markdown",
      "metadata": {
        "id": "2WIn6xeVaDbI"
      },
      "source": [
        "##Tokenizer"
      ]
    },
    {
      "cell_type": "code",
      "metadata": {
        "id": "lDUaYlImZ89v"
      },
      "source": [
        "class Tokenizer(object):\n",
        "    def __init__(self, dataset_sentences, embedding_dim, glove_dict, glove_matrix):\n",
        "        self.embedding_matrix = None\n",
        "        self.value_to_key = {}\n",
        "        self.value_to_key_new = {}\n",
        "        self.key_to_value = {}\n",
        "        self.num_unique_words = 0\n",
        "        self.dataset_sentences = dataset_sentences\n",
        "        self.embedding_dim = embedding_dim\n",
        "        self.glove_dict = glove_dict\n",
        "        self.glove_matrix = glove_matrix\n",
        "        self.unique_words = set()\n",
        "\n",
        "    def get_val_to_key(self):\n",
        "        return copy.deepcopy(self.value_to_key)\n",
        "\n",
        "    def tokenize(self):\n",
        "        self.value_to_key_new = {}\n",
        "        unique_words = set()\n",
        "        for sen in self.dataset_sentences:\n",
        "            for w in sen.split():\n",
        "                unique_words.add(w)  # get se of unique words\n",
        "        new_unique = unique_words - self.unique_words\n",
        "        for i, word in enumerate(new_unique):\n",
        "            if self.embedding_matrix is not None:\n",
        "                self.key_to_value[i + len(self.embedding_matrix)] = word  # build two dictionaries for key value correspondence\n",
        "                self.value_to_key[word] = i + len(self.embedding_matrix)\n",
        "            else:\n",
        "                self.key_to_value[i] = word  # build two dictionaries for key value correspondence\n",
        "                self.value_to_key[word] = i\n",
        "            self.value_to_key_new[word] = i\n",
        "\n",
        "        self.num_unique_words = len(new_unique)\n",
        "        self.unique_words = self.unique_words | new_unique  # union of unique words and new unique words\n",
        "\n",
        "    def __build_embedding_matrix_glove(self):\n",
        "        oov_words = []\n",
        "        tmp_embedding_matrix = np.zeros((self.num_unique_words, self.embedding_dim)) #dtype=np.float32\n",
        "        len_old_emb_matrix = len(self.embedding_matrix) if self.embedding_matrix is not None else 0\n",
        "        for word, idx in tqdm(self.value_to_key_new.items()):\n",
        "            try:\n",
        "                embedding_vector = self.glove_matrix[self.glove_dict[word]]\n",
        "                tmp_embedding_matrix[idx] = embedding_vector\n",
        "            except (KeyError, TypeError):\n",
        "                oov_words.append((word, idx + len_old_emb_matrix))\n",
        "        \n",
        "        if self.embedding_matrix is not None:\n",
        "            self.embedding_matrix = np.vstack((self.embedding_matrix, tmp_embedding_matrix))\n",
        "\n",
        "        else:\n",
        "            self.embedding_matrix = copy.deepcopy(tmp_embedding_matrix)\n",
        "        return oov_words\n",
        "\n",
        "    def build_embedding_matrix(self):\n",
        "        oov_words = self.__build_embedding_matrix_glove()\n",
        "        for word, idx in oov_words:\n",
        "            neighbour_words = []\n",
        "            for sen in self.dataset_sentences:  # look for word in sentence\n",
        "                for i, wanted_word in enumerate(sen):\n",
        "                    if wanted_word == word:\n",
        "                        neighbour_words.append(sen[i - 1])  # append previous word in list of neighbours\n",
        "                        neighbour_words.append(sen[i + 1])  # append next word in list of neighbours\n",
        "            avg_matrix = np.zeros((len(neighbour_words), self.embedding_dim))  # initialize matrix of avgs\n",
        "\n",
        "            length_in_vocab = 0  # to check if neighbours are OOV\n",
        "            for i, el in enumerate(neighbour_words):\n",
        "                try:\n",
        "                    avg_matrix[i] = self.embedding_matrix[self.value_to_key[el]]  # check not OOV\n",
        "                    length_in_vocab += 1  # we don't want to use the zero columns of avg_matrix\n",
        "                except (KeyError, TypeError):  # the model doesn't exist\n",
        "                    pass\n",
        "            if length_in_vocab == 0:\n",
        "                embedding_vector = np.random.uniform(low=-0.05, high=0.05, size=self.embedding_dim)\n",
        "            else:\n",
        "                embedding_vector = np.mean(avg_matrix[:length_in_vocab], axis=0)\n",
        "            self.embedding_matrix[idx] = embedding_vector\n",
        "        return copy.deepcopy(self.embedding_matrix)"
      ],
      "execution_count": 7,
      "outputs": []
    },
    {
      "cell_type": "markdown",
      "metadata": {
        "id": "KgyHeGTHaHEW"
      },
      "source": [
        "##Model"
      ]
    },
    {
      "cell_type": "code",
      "metadata": {
        "id": "ACllxoPkaHNp"
      },
      "source": [
        "class Model(object):\n",
        "    def __init__(self, model_type, compile_info, value_to_key, embedding_dim, max_seq_len, num_labels,\n",
        "                 embedding_matrix, num_recurrent_units, l2_reg):\n",
        "\n",
        "        self.compile_info = compile_info\n",
        "        self.value_to_key = value_to_key\n",
        "        self.embedding_dim = embedding_dim\n",
        "        self.max_seq_len = max_seq_len\n",
        "        self.num_labels = num_labels\n",
        "        self.embedding_matrix = embedding_matrix\n",
        "        self.num_recurrent_units = num_recurrent_units\n",
        "        self.l2_reg = l2_reg\n",
        "        self.name = model_type\n",
        "\n",
        "        if 'baseline' == model_type:\n",
        "            self.model = self.create_LSTM()\n",
        "        elif 'gru' == model_type:\n",
        "            self.model = self.create_GRU()\n",
        "        elif 'two_lstm' == model_type:\n",
        "            self.model = self.create_two_LSTM()\n",
        "        else:\n",
        "            self.model = self.create_two_Dense()\n",
        "\n",
        "\n",
        "    def create_LSTM(self) -> keras.Model:\n",
        "        bidirect_model = keras.models.Sequential()\n",
        "\n",
        "        inputs = keras.layers.Input(shape=(None,))\n",
        "        x = layers.Embedding(input_dim=len(self.value_to_key.keys()) + 1,\n",
        "                                            output_dim=self.embedding_dim,\n",
        "                                            mask_zero = True,\n",
        "                                            input_length=self.max_seq_len,\n",
        "                                            weights=[self.embedding_matrix],\n",
        "                                            trainable=False\n",
        "                                            )(inputs)\n",
        "\n",
        "        x = layers.Bidirectional(layers.LSTM(self.num_recurrent_units, return_sequences=True, kernel_regularizer=l2(self.l2_reg)))(x)\n",
        "        outputs = layers.TimeDistributed(layers.Dense(self.num_labels, activation=\"softmax\"))(x)\n",
        "        bidirect_model = keras.Model(inputs=inputs, outputs=outputs)\n",
        "        bidirect_model.compile(**self.compile_info)\n",
        "        bidirect_model.summary()\n",
        "        return bidirect_model\n",
        "\n",
        "    def create_GRU(self) -> keras.Model:\n",
        "        gru = keras.models.Sequential()\n",
        "        gru.add(layers.Embedding(input_dim=len(self.value_to_key.keys()) + 1,\n",
        "                                 output_dim=self.embedding_dim,\n",
        "                                 input_length=self.max_seq_len,\n",
        "                                 mask_zero=True,\n",
        "                                 weights=[self.embedding_matrix],\n",
        "                                 trainable=False\n",
        "                                 ))\n",
        "\n",
        "        gru.add(layers.GRU(self.num_recurrent_units, return_sequences=True, kernel_regularizer=l2(self.l2_reg)))\n",
        "        gru.add(layers.TimeDistributed(layers.Dense(self.num_labels, activation=\"softmax\")))\n",
        "        gru.compile(**self.compile_info)\n",
        "        gru.summary()\n",
        "        return gru\n",
        "\n",
        "    def create_two_LSTM(self) -> keras.Model:\n",
        "        lstm = keras.models.Sequential()\n",
        "        lstm.add(layers.Embedding(input_dim=len(self.value_to_key.keys()) + 1,\n",
        "                                  output_dim=self.embedding_dim,\n",
        "                                  input_length=self.max_seq_len,\n",
        "                                  mask_zero=True,\n",
        "                                  weights=[self.embedding_matrix],\n",
        "                                  trainable=False\n",
        "                                  ))\n",
        "\n",
        "        lstm.add(layers.Bidirectional(layers.LSTM(self.num_recurrent_units, return_sequences=True, kernel_regularizer=l2(self.l2_reg))))\n",
        "        lstm.add(layers.LSTM(self.num_recurrent_units//2, return_sequences=True))\n",
        "        lstm.add(layers.TimeDistributed(layers.Dense(self.num_labels, activation=\"softmax\")))\n",
        "        lstm.compile(**self.compile_info)\n",
        "        lstm.summary()\n",
        "        return lstm\n",
        "\n",
        "    def create_two_Dense(self) -> keras.Model:\n",
        "        lstm = keras.models.Sequential()\n",
        "        lstm.add(layers.Embedding(input_dim=len(self.value_to_key.keys()) + 1,\n",
        "                                  output_dim=self.embedding_dim,\n",
        "                                  input_length=self.max_seq_len,\n",
        "                                  mask_zero=True,\n",
        "                                  weights=[self.embedding_matrix],\n",
        "                                  trainable=False\n",
        "                                  ))\n",
        "        lstm.add(layers.Bidirectional(layers.LSTM(self.num_recurrent_units, return_sequences=True, kernel_regularizer=l2(self.l2_reg))))\n",
        "        lstm.add(layers.TimeDistributed(layers.Dense(self.num_recurrent_units*2, activation=\"relu\")))\n",
        "        lstm.add(layers.TimeDistributed(layers.Dense(self.num_labels, activation=\"softmax\")))\n",
        "        lstm.compile(**self.compile_info)\n",
        "        lstm.summary()\n",
        "        return lstm\n",
        "\n",
        "    def show_history(self, history: keras.callbacks.History):\n",
        "\n",
        "        history_data = history.history\n",
        "        print(\"Displaying the following history keys: \", history_data.keys())\n",
        "\n",
        "        for key, value in history_data.items():\n",
        "            if not key.startswith('val'):\n",
        "                fig, ax = plt.subplots(1, 1)\n",
        "                ax.set_title(key)\n",
        "                ax.plot(value)\n",
        "                if 'val_{}'.format(key) in history_data:\n",
        "                    ax.plot(history_data['val_{}'.format(key)])\n",
        "                else:\n",
        "                    print(\"Couldn't find validation values for metric: \", key)\n",
        "\n",
        "                ax.set_ylabel(key)\n",
        "                ax.set_xlabel('epoch')\n",
        "                ax.legend(['train', 'val'], loc='best')\n",
        "\n",
        "        plt.show()\n",
        "\n",
        "    def train_model(self,\n",
        "                    x_train: np.ndarray,\n",
        "                    y_train: np.ndarray,\n",
        "                    x_val: np.ndarray,\n",
        "                    y_val: np.ndarray,\n",
        "                    training_info: dict):\n",
        "        print(\"Start training! \\nParameters: {}\".format(training_info))\n",
        "        history = self.model.fit(x=x_train, y=y_train,\n",
        "                                 validation_data=(x_val, y_val),\n",
        "                                 shuffle=True,\n",
        "                                 **training_info)\n",
        "        print(\"Training completed! Showing history...\")\n",
        "\n",
        "        self.show_history(history)\n",
        "\n",
        "    def predict_data(self,\n",
        "                      x: np.ndarray,\n",
        "                      prediction_info: dict) -> np.ndarray:\n",
        "\n",
        "        print('Starting prediction: \\n{}'.format(prediction_info))\n",
        "        print('Predicting on {} samples'.format(x.shape[0]))\n",
        "\n",
        "        predictions = self.model.predict(x, **prediction_info)\n",
        "        return predictions"
      ],
      "execution_count": 8,
      "outputs": []
    },
    {
      "cell_type": "markdown",
      "metadata": {
        "id": "ePav_t9Ham6U"
      },
      "source": [
        "#MAIN"
      ]
    },
    {
      "cell_type": "code",
      "metadata": {
        "id": "tXHka6Viamc6",
        "colab": {
          "base_uri": "https://localhost:8080/",
          "height": 368
        },
        "outputId": "c1aeb9d9-fac3-460d-c894-9991b448022f"
      },
      "source": [
        "df, max_seq_len = create_dataset()\n",
        "\n",
        "\n",
        "try:\n",
        "    with open(f\"glove-{EMBEDDING_SIZE}.pkl\", 'rb') as f:\n",
        "        emb_model = pickle.load(f)\n",
        "except Exception:\n",
        "    emb_model = gloader.load(f\"glove-wiki-gigaword-{EMBEDDING_SIZE}\")\n",
        "    with open(f\"glove-{EMBEDDING_SIZE}.pkl\", 'wb') as f:\n",
        "        pickle.dump(emb_model, f)\n",
        "\n",
        "glove_dict = emb_model.key_to_index\n",
        "glove_matrix = emb_model.vectors\n",
        "\n",
        "\n",
        "try:\n",
        "    with open(\"emb_mat.pkl\", 'rb') as f:\n",
        "        v4_matrix = pickle.load(f)\n",
        "    with open(\"val_to_key.pkl\", 'rb') as f:\n",
        "        v4_val_to_key = pickle.load(f)\n",
        "except Exception:\n",
        "    tokenizer = Tokenizer(df[df['split'] == 'train']['text'], EMBEDDING_SIZE, glove_dict, glove_matrix)\n",
        "    tokenizer.tokenize()\n",
        "    v2_matrix = tokenizer.build_embedding_matrix()\n",
        "    tokenizer.dataset_sentences = df[df['split'] == 'val']['text']\n",
        "    tokenizer.tokenize()\n",
        "    v3_matrix = tokenizer.build_embedding_matrix()\n",
        "    tokenizer.dataset_sentences = df[df['split'] == 'test']['text']\n",
        "    tokenizer.tokenize()\n",
        "    v4_matrix = tokenizer.build_embedding_matrix()\n",
        "    v4_val_to_key = tokenizer.get_val_to_key()\n",
        "    with open(f\"emb_mat.pkl\", 'wb') as f:\n",
        "        pickle.dump(v4_matrix, f)\n",
        "    with open(f\"val_to_key.pkl\", 'wb') as f:\n",
        "        pickle.dump(v4_val_to_key, f)\n",
        "\n",
        "v4_val_to_key.update((x, y+1) for x, y in v4_val_to_key.items())\n",
        "\n",
        "num_classes = get_num_classes(df[df['split'] == 'train'])\n",
        "x_train, y_train, tok = create_trainable(df[df['split'] == 'train'], \n",
        "                                         v4_val_to_key, \n",
        "                                         max_seq_len,\n",
        "                                         num_classes=num_classes)\n",
        "x_val, y_val, tok = create_trainable(df[df['split'] == 'val'], \n",
        "                                     v4_val_to_key, \n",
        "                                     max_seq_len, \n",
        "                                     num_classes=num_classes, \n",
        "                                     label_tokenizer=tok)\n",
        "x_test, y_test, tok = create_trainable(df[df['split'] == 'test'], \n",
        "                                       v4_val_to_key,\n",
        "                                       max_seq_len, \n",
        "                                       num_classes=num_classes, \n",
        "                                       label_tokenizer=tok)\n"
      ],
      "execution_count": 9,
      "outputs": [
        {
          "output_type": "stream",
          "name": "stdout",
          "text": [
            "Extracting dataset... (it may take a while...)\n",
            "Extraction completed!\n"
          ]
        },
        {
          "output_type": "stream",
          "name": "stderr",
          "text": [
            "199it [00:00, 305.01it/s]\n"
          ]
        },
        {
          "output_type": "stream",
          "name": "stdout",
          "text": [
            "We deleted 86 sentences!\n",
            "The dataset has on average 25.037812979049566 words per sentence\n"
          ]
        },
        {
          "output_type": "display_data",
          "data": {
            "image/png": "[encoded data removed]",
            "text/plain": [
              "<Figure size 432x288 with 1 Axes>"
            ]
          },
          "metadata": {
            "needs_background": "light"
          }
        }
      ]
    },
    {
      "cell_type": "code",
      "source": [
        "print(np.unique(''.join(df['POStagging']).split()))\n",
        "print(\"Unique classes \",len(np.unique(''.join(df['POStagging']).split())))\n",
        "\n",
        "vali = df[df['split']=='val']\n",
        "traini = df[df['split']=='train']\n",
        "\n",
        "uni_vali = set(''.join(vali['text']).split())\n",
        "uni_traini = set(''.join(traini['text']).split())\n",
        "\n",
        "diff = uni_vali - (uni_traini & uni_vali)\n",
        "\n",
        "\n",
        "print()\n",
        "print(f\"[Training] unique words: \\t{len(uni_traini)}\")\n",
        "print(f\"[Training & Val] unique words: \\t{len(uni_traini & uni_vali)}\")\n",
        "print(f\"[Val] unique word: \\t{len(uni_vali)}  (val tolale)\") \n",
        "print(f\"Difference [Val - (Training & Val)] unique words: \\t{len(diff)}  (val che non sta in train)\")\n",
        "\n",
        "uni_glove = set(glove_dict.keys())\n",
        "diff_glove = uni_vali - (uni_vali & uni_glove)\n",
        "print(f\"Difference [Val - (Val & Glove)] unique words: \\t{len(diff_glove)}  (val che non sta in glove)\")\n",
        "print(f\"Word from Val not seen by Train: {(len(diff_glove) + len(diff))*100/len(uni_vali):.2F}%\")\n",
        "print()\n",
        "\n",
        "for i,  oov in enumerate(diff_glove):\n",
        "    if i < 10:\n",
        "        print(oov)\n",
        "\n",
        "df[df['POStagging'].str.contains('\\#')]"
      ],
      "metadata": {
        "colab": {
          "base_uri": "https://localhost:8080/",
          "height": 794
        },
        "id": "Gun8hxiK5_5h",
        "outputId": "ad13bd74-c7b5-4b54-8e60-34ace7a731c9"
      },
      "execution_count": 10,
      "outputs": [
        {
          "output_type": "stream",
          "name": "stdout",
          "text": [
            "['#' '$' \"''\" ',' '-lrb-' '-rrb-' '.' ':' '``' 'cc' 'cd' 'dt' 'ex' 'fw'\n",
            " 'in' 'jj' 'jjr' 'jjs' 'ls' 'md' 'nn' 'nnp' 'nnps' 'nns' 'pdt' 'pos' 'prp'\n",
            " 'prp$' 'rb' 'rbr' 'rbs' 'rp' 'sym' 'to' 'uh' 'vb' 'vbd' 'vbg' 'vbn' 'vbp'\n",
            " 'vbz' 'wdt' 'wp' 'wp$' 'wrb']\n",
            "Unique classes  45\n",
            "\n",
            "[Training] unique words: \t7138\n",
            "[Training & Val] unique words: \t2784\n",
            "[Val] unique word: \t5139  (val tolale)\n",
            "Difference [Val - (Training & Val)] unique words: \t2355  (val che non sta in train)\n",
            "Difference [Val - (Val & Glove)] unique words: \t199  (val che non sta in glove)\n",
            "Word from Val not seen by Train: 49.70%\n",
            "\n",
            "news-american\n",
            "7\\/8\n",
            "71,309\n",
            "2163.2\n",
            "multi-crystal\n",
            "bank-backed\n",
            "dydee\n",
            "junk-bond\n",
            "1738.1\n",
            "5.435\n"
          ]
        },
        {
          "output_type": "execute_result",
          "data": {
            "text/html": [
              "<div>\n",
              "<style scoped>\n",
              "    .dataframe tbody tr th:only-of-type {\n",
              "        vertical-align: middle;\n",
              "    }\n",
              "\n",
              "    .dataframe tbody tr th {\n",
              "        vertical-align: top;\n",
              "    }\n",
              "\n",
              "    .dataframe thead th {\n",
              "        text-align: right;\n",
              "    }\n",
              "</style>\n",
              "<table border=\"1\" class=\"dataframe\">\n",
              "  <thead>\n",
              "    <tr style=\"text-align: right;\">\n",
              "      <th></th>\n",
              "      <th>text</th>\n",
              "      <th>POStagging</th>\n",
              "      <th>split</th>\n",
              "    </tr>\n",
              "  </thead>\n",
              "  <tbody>\n",
              "    <tr>\n",
              "      <th>1851</th>\n",
              "      <td>still , `` much less -lcb- index-arbitrage act...</td>\n",
              "      <td>rb , `` rb rbr -lrb- nn nn -rrb- vbz vbn in rb...</td>\n",
              "      <td>train</td>\n",
              "    </tr>\n",
              "    <tr>\n",
              "      <th>2374</th>\n",
              "      <td>the council , which is alleged to have engaged...</td>\n",
              "      <td>dt nn , wdt vbz vbn to vb vbn in in cd nns vbn...</td>\n",
              "      <td>val</td>\n",
              "    </tr>\n",
              "    <tr>\n",
              "      <th>2803</th>\n",
              "      <td>reed international plc said that net income fo...</td>\n",
              "      <td>nnp nnp nnp vbd in jj nn in dt cd nns vbd nnp ...</td>\n",
              "      <td>val</td>\n",
              "    </tr>\n",
              "    <tr>\n",
              "      <th>2804</th>\n",
              "      <td>the british paper , packaging and publishing c...</td>\n",
              "      <td>dt jj nn , nn cc nn nn , vbd nn in vbg nns vbd...</td>\n",
              "      <td>val</td>\n",
              "    </tr>\n",
              "    <tr>\n",
              "      <th>2805</th>\n",
              "      <td>while there were no one-time gains or losses i...</td>\n",
              "      <td>in ex vbd dt jj nns cc nns in dt jjs nn , ex v...</td>\n",
              "      <td>val</td>\n",
              "    </tr>\n",
              "    <tr>\n",
              "      <th>2806</th>\n",
              "      <td>and while there was no profit this year from d...</td>\n",
              "      <td>cc in ex vbd dt nn dt nn in vbn nns , jj nn pr...</td>\n",
              "      <td>val</td>\n",
              "    </tr>\n",
              "    <tr>\n",
              "      <th>2807</th>\n",
              "      <td>pretax profit fell 3.7 % to # 128 million from...</td>\n",
              "      <td>nn nn vbd cd nn to # cd cd in # cd cd cc vbd i...</td>\n",
              "      <td>val</td>\n",
              "    </tr>\n",
              "    <tr>\n",
              "      <th>2809</th>\n",
              "      <td>sales fell 20 % to # 722 million .</td>\n",
              "      <td>nns vbd cd nn to # cd cd .</td>\n",
              "      <td>val</td>\n",
              "    </tr>\n",
              "    <tr>\n",
              "      <th>2973</th>\n",
              "      <td>glaxo , the u.k. 's largest pharmaceutical con...</td>\n",
              "      <td>nnp , dt nnp pos jjs jj nn , vbd cd to # cd .</td>\n",
              "      <td>val</td>\n",
              "    </tr>\n",
              "    <tr>\n",
              "      <th>3103</th>\n",
              "      <td>btr plc , a u.k. industrial conglomerate , sai...</td>\n",
              "      <td>nnp nnp , dt nnp jj nn , vbd in nnp prp vbd vb...</td>\n",
              "      <td>val</td>\n",
              "    </tr>\n",
              "    <tr>\n",
              "      <th>3106</th>\n",
              "      <td>national tyre , which has 420 branches through...</td>\n",
              "      <td>nnp nnp , wdt vbz cd nns in dt nnp , vbd cd nn...</td>\n",
              "      <td>val</td>\n",
              "    </tr>\n",
              "  </tbody>\n",
              "</table>\n",
              "</div>"
            ],
            "text/plain": [
              "                                                   text  ...  split\n",
              "1851  still , `` much less -lcb- index-arbitrage act...  ...  train\n",
              "2374  the council , which is alleged to have engaged...  ...    val\n",
              "2803  reed international plc said that net income fo...  ...    val\n",
              "2804  the british paper , packaging and publishing c...  ...    val\n",
              "2805  while there were no one-time gains or losses i...  ...    val\n",
              "2806  and while there was no profit this year from d...  ...    val\n",
              "2807  pretax profit fell 3.7 % to # 128 million from...  ...    val\n",
              "2809                sales fell 20 % to # 722 million .   ...    val\n",
              "2973  glaxo , the u.k. 's largest pharmaceutical con...  ...    val\n",
              "3103  btr plc , a u.k. industrial conglomerate , sai...  ...    val\n",
              "3106  national tyre , which has 420 branches through...  ...    val\n",
              "\n",
              "[11 rows x 3 columns]"
            ]
          },
          "metadata": {},
          "execution_count": 10
        }
      ]
    },
    {
      "cell_type": "code",
      "source": [
        "print(glove_matrix[glove_dict[\"the\"]])\n",
        "ind = v4_val_to_key[\"the\"]-1\n",
        "print(v4_matrix[ind])"
      ],
      "metadata": {
        "colab": {
          "base_uri": "https://localhost:8080/"
        },
        "id": "ejKvTBPXExSW",
        "outputId": "d8ffcb55-42ba-4ea5-e424-decf50e894a4"
      },
      "execution_count": 11,
      "outputs": [
        {
          "output_type": "stream",
          "name": "stdout",
          "text": [
            "[-0.038194 -0.24487   0.72812  -0.39961   0.083172  0.043953 -0.39141\n",
            "  0.3344   -0.57545   0.087459  0.28787  -0.06731   0.30906  -0.26384\n",
            " -0.13231  -0.20757   0.33395  -0.33848  -0.31743  -0.48336   0.1464\n",
            " -0.37304   0.34577   0.052041  0.44946  -0.46971   0.02628  -0.54155\n",
            " -0.15518  -0.14107  -0.039722  0.28277   0.14393   0.23464  -0.31021\n",
            "  0.086173  0.20397   0.52624   0.17164  -0.082378 -0.71787  -0.41531\n",
            "  0.20335  -0.12763   0.41367   0.55187   0.57908  -0.33477  -0.36559\n",
            " -0.54857  -0.062892  0.26584   0.30205   0.99775  -0.80481  -3.0243\n",
            "  0.01254  -0.36942   2.2167    0.72201  -0.24978   0.92136   0.034514\n",
            "  0.46745   1.1079   -0.19358  -0.074575  0.23353  -0.052062 -0.22044\n",
            "  0.057162 -0.15806  -0.30798  -0.41625   0.37972   0.15006  -0.53212\n",
            " -0.2055   -1.2526    0.071624  0.70565   0.49744  -0.42063   0.26148\n",
            " -1.538    -0.30223  -0.073438 -0.28312   0.37104  -0.25217   0.016215\n",
            " -0.017099 -0.38984   0.87424  -0.72569  -0.51058  -0.52028  -0.1459\n",
            "  0.8278    0.27062 ]\n",
            "[-0.038194   -0.24487001  0.72812003 -0.39961001  0.083172    0.043953\n",
            " -0.39140999  0.3344     -0.57545     0.087459    0.28786999 -0.06731\n",
            "  0.30906001 -0.26383999 -0.13231    -0.20757     0.33395001 -0.33848\n",
            " -0.31742999 -0.48335999  0.1464     -0.37303999  0.34577     0.052041\n",
            "  0.44946    -0.46970999  0.02628    -0.54154998 -0.15518001 -0.14106999\n",
            " -0.039722    0.28277001  0.14393     0.23464    -0.31020999  0.086173\n",
            "  0.20397     0.52623999  0.17163999 -0.082378   -0.71787    -0.41531\n",
            "  0.20334999 -0.12763     0.41367     0.55186999  0.57907999 -0.33476999\n",
            " -0.36559001 -0.54856998 -0.062892    0.26583999  0.30204999  0.99774998\n",
            " -0.80480999 -3.0243001   0.01254    -0.36941999  2.21670008  0.72201002\n",
            " -0.24978     0.92136002  0.034514    0.46744999  1.10790002 -0.19358\n",
            " -0.074575    0.23353    -0.052062   -0.22044     0.057162   -0.15806\n",
            " -0.30798    -0.41624999  0.37972     0.15006    -0.53211999 -0.20550001\n",
            " -1.25259995  0.071624    0.70564997  0.49744001 -0.42063001  0.26148\n",
            " -1.53799999 -0.30223    -0.073438   -0.28312001  0.37103999 -0.25217\n",
            "  0.016215   -0.017099   -0.38984001  0.87423998 -0.72569001 -0.51058\n",
            " -0.52028    -0.1459      0.82779998  0.27061999]\n"
          ]
        }
      ]
    },
    {
      "cell_type": "markdown",
      "metadata": {
        "id": "s99TcYeDa1y9"
      },
      "source": [
        "#TRAIN VARIOUS MODELS"
      ]
    },
    {
      "cell_type": "code",
      "metadata": {
        "id": "y1w997vca49D",
        "colab": {
          "base_uri": "https://localhost:8080/",
          "height": 1000
        },
        "outputId": "dbab4ecf-898c-4181-f7ad-fd63750fcda5"
      },
      "source": [
        "compile_info = {\n",
        "    'optimizer': keras.optimizers.Nadam(learning_rate=1e-2),\n",
        "    'loss': 'categorical_crossentropy',\n",
        "    'metrics': ['acc']\n",
        "}\n",
        "\n",
        "training_info = {\n",
        "    'verbose': 1,\n",
        "    'epochs': 30,\n",
        "    'batch_size': BATCH_SIZE,\n",
        "    'callbacks': [keras.callbacks.EarlyStopping(monitor='val_acc', \n",
        "                                                patience=4,\n",
        "                                                restore_best_weights=True)]\n",
        "}\n",
        "\n",
        "model_params = {\n",
        "    'compile_info': compile_info,\n",
        "    'value_to_key': v4_val_to_key,\n",
        "    'embedding_dim': EMBEDDING_SIZE,\n",
        "    'max_seq_len': max_seq_len,\n",
        "    'num_labels': num_classes,\n",
        "    'embedding_matrix': np.vstack((np.zeros((1, EMBEDDING_SIZE)),\n",
        "                       v4_matrix)),\n",
        "    'num_recurrent_units': 32,\n",
        "    'l2_reg': 1e-4\n",
        "}\n",
        "\n",
        "prediction_info = {\n",
        "    'batch_size': BATCH_SIZE,\n",
        "    'verbose': 1\n",
        "}\n",
        "\n",
        "models = []\n",
        "histories = []\n",
        "\n",
        "model_names = ['baseline', 'gru', 'two_lstm', 'two_dense']\n",
        "for m_name in model_names:\n",
        "    model = Model(m_name, **model_params)\n",
        "    history = model.train_model(x_train=x_train, y_train=y_train,\n",
        "                                x_val=x_val, y_val=y_val, training_info=training_info)\n",
        "    models.append(model)\n",
        "    histories.append(history)\n",
        "\n"
      ],
      "execution_count": 12,
      "outputs": [
        {
          "output_type": "stream",
          "name": "stdout",
          "text": [
            "Model: \"model\"\n",
            "_________________________________________________________________\n",
            " Layer (type)                Output Shape              Param #   \n",
            "=================================================================\n",
            " input_1 (InputLayer)        [(None, None)]            0         \n",
            "                                                                 \n",
            " embedding (Embedding)       (None, None, 100)         1051400   \n",
            "                                                                 \n",
            " bidirectional (Bidirectiona  (None, None, 64)         34048     \n",
            " l)                                                              \n",
            "                                                                 \n",
            " time_distributed (TimeDistr  (None, None, 46)         2990      \n",
            " ibuted)                                                         \n",
            "                                                                 \n",
            "=================================================================\n",
            "Total params: 1,088,438\n",
            "Trainable params: 37,038\n",
            "Non-trainable params: 1,051,400\n",
            "_________________________________________________________________\n",
            "Start training! \n",
            "Parameters: {'verbose': 1, 'epochs': 30, 'batch_size': 64, 'callbacks': [<keras.callbacks.EarlyStopping object at 0x7f6a5a388750>]}\n",
            "Epoch 1/30\n",
            "31/31 [==============================] - 26s 481ms/step - loss: 0.9480 - acc: 0.5096 - val_loss: 0.4793 - val_acc: 0.7438\n",
            "Epoch 2/30\n",
            "31/31 [==============================] - 11s 363ms/step - loss: 0.3616 - acc: 0.8213 - val_loss: 0.3172 - val_acc: 0.8366\n",
            "Epoch 3/30\n",
            "31/31 [==============================] - 11s 364ms/step - loss: 0.2606 - acc: 0.8700 - val_loss: 0.2602 - val_acc: 0.8660\n",
            "Epoch 4/30\n",
            "31/31 [==============================] - 11s 362ms/step - loss: 0.2178 - acc: 0.8911 - val_loss: 0.2318 - val_acc: 0.8798\n",
            "Epoch 5/30\n",
            "31/31 [==============================] - 11s 364ms/step - loss: 0.1926 - acc: 0.9042 - val_loss: 0.2184 - val_acc: 0.8797\n",
            "Epoch 6/30\n",
            "31/31 [==============================] - 11s 366ms/step - loss: 0.1813 - acc: 0.9096 - val_loss: 0.2136 - val_acc: 0.8845\n",
            "Epoch 7/30\n",
            "31/31 [==============================] - 11s 363ms/step - loss: 0.1643 - acc: 0.9195 - val_loss: 0.1877 - val_acc: 0.9028\n",
            "Epoch 8/30\n",
            "31/31 [==============================] - 11s 364ms/step - loss: 0.1568 - acc: 0.9221 - val_loss: 0.1840 - val_acc: 0.9043\n",
            "Epoch 9/30\n",
            "31/31 [==============================] - 11s 365ms/step - loss: 0.1471 - acc: 0.9281 - val_loss: 0.1973 - val_acc: 0.8896\n",
            "Epoch 10/30\n",
            "31/31 [==============================] - 11s 363ms/step - loss: 0.1399 - acc: 0.9330 - val_loss: 0.1827 - val_acc: 0.9005\n",
            "Epoch 11/30\n",
            "31/31 [==============================] - 11s 360ms/step - loss: 0.1367 - acc: 0.9342 - val_loss: 0.1762 - val_acc: 0.9065\n",
            "Epoch 12/30\n",
            "31/31 [==============================] - 11s 361ms/step - loss: 0.1303 - acc: 0.9382 - val_loss: 0.1737 - val_acc: 0.9079\n",
            "Epoch 13/30\n",
            "31/31 [==============================] - 11s 361ms/step - loss: 0.1267 - acc: 0.9406 - val_loss: 0.1746 - val_acc: 0.9071\n",
            "Epoch 14/30\n",
            "31/31 [==============================] - 11s 362ms/step - loss: 0.1232 - acc: 0.9430 - val_loss: 0.1678 - val_acc: 0.9124\n",
            "Epoch 15/30\n",
            "31/31 [==============================] - 11s 364ms/step - loss: 0.1212 - acc: 0.9442 - val_loss: 0.1669 - val_acc: 0.9111\n",
            "Epoch 16/30\n",
            "31/31 [==============================] - 11s 363ms/step - loss: 0.1139 - acc: 0.9482 - val_loss: 0.1725 - val_acc: 0.9064\n",
            "Epoch 17/30\n",
            "31/31 [==============================] - 11s 360ms/step - loss: 0.1129 - acc: 0.9490 - val_loss: 0.1726 - val_acc: 0.9095\n",
            "Epoch 18/30\n",
            "31/31 [==============================] - 11s 364ms/step - loss: 0.1137 - acc: 0.9476 - val_loss: 0.1709 - val_acc: 0.9067\n",
            "Training completed! Showing history...\n",
            "Displaying the following history keys:  dict_keys(['loss', 'acc', 'val_loss', 'val_acc'])\n"
          ]
        },
        {
          "output_type": "display_data",
          "data": {
            "image/png": "[encoded data removed]",
            "text/plain": [
              "<Figure size 432x288 with 1 Axes>"
            ]
          },
          "metadata": {
            "needs_background": "light"
          }
        },
        {
          "output_type": "display_data",
          "data": {
            "image/png": "[encoded data removed]",
            "text/plain": [
              "<Figure size 432x288 with 1 Axes>"
            ]
          },
          "metadata": {
            "needs_background": "light"
          }
        },
        {
          "output_type": "stream",
          "name": "stdout",
          "text": [
            "Model: \"sequential_1\"\n",
            "_________________________________________________________________\n",
            " Layer (type)                Output Shape              Param #   \n",
            "=================================================================\n",
            " embedding_1 (Embedding)     (None, 50, 100)           1051400   \n",
            "                                                                 \n",
            " gru (GRU)                   (None, 50, 32)            12864     \n",
            "                                                                 \n",
            " time_distributed_1 (TimeDis  (None, 50, 46)           1518      \n",
            " tributed)                                                       \n",
            "                                                                 \n",
            "=================================================================\n",
            "Total params: 1,065,782\n",
            "Trainable params: 14,382\n",
            "Non-trainable params: 1,051,400\n",
            "_________________________________________________________________\n",
            "Start training! \n",
            "Parameters: {'verbose': 1, 'epochs': 30, 'batch_size': 64, 'callbacks': [<keras.callbacks.EarlyStopping object at 0x7f6a5a388750>]}\n",
            "Epoch 1/30\n",
            "31/31 [==============================] - 14s 274ms/step - loss: 0.8079 - acc: 0.5569 - val_loss: 0.4286 - val_acc: 0.7733\n",
            "Epoch 2/30\n",
            "31/31 [==============================] - 7s 222ms/step - loss: 0.3300 - acc: 0.8308 - val_loss: 0.3001 - val_acc: 0.8363\n",
            "Epoch 3/30\n",
            "31/31 [==============================] - 7s 214ms/step - loss: 0.2661 - acc: 0.8594 - val_loss: 0.2630 - val_acc: 0.8565\n",
            "Epoch 4/30\n",
            "31/31 [==============================] - 7s 217ms/step - loss: 0.2284 - acc: 0.8791 - val_loss: 0.2952 - val_acc: 0.8370\n",
            "Epoch 5/30\n",
            "31/31 [==============================] - 7s 220ms/step - loss: 0.2150 - acc: 0.8866 - val_loss: 0.2374 - val_acc: 0.8650\n",
            "Epoch 6/30\n",
            "31/31 [==============================] - 7s 220ms/step - loss: 0.1983 - acc: 0.8964 - val_loss: 0.2295 - val_acc: 0.8699\n",
            "Epoch 7/30\n",
            "31/31 [==============================] - 7s 222ms/step - loss: 0.1883 - acc: 0.9018 - val_loss: 0.2244 - val_acc: 0.8742\n",
            "Epoch 8/30\n",
            "31/31 [==============================] - 7s 217ms/step - loss: 0.1799 - acc: 0.9064 - val_loss: 0.2238 - val_acc: 0.8798\n",
            "Epoch 9/30\n",
            "31/31 [==============================] - 7s 216ms/step - loss: 0.1719 - acc: 0.9133 - val_loss: 0.2268 - val_acc: 0.8760\n",
            "Epoch 10/30\n",
            "31/31 [==============================] - 7s 215ms/step - loss: 0.1683 - acc: 0.9146 - val_loss: 0.2061 - val_acc: 0.8874\n",
            "Epoch 11/30\n",
            "31/31 [==============================] - 7s 216ms/step - loss: 0.1632 - acc: 0.9168 - val_loss: 0.2137 - val_acc: 0.8796\n",
            "Epoch 12/30\n",
            "31/31 [==============================] - 7s 216ms/step - loss: 0.1575 - acc: 0.9199 - val_loss: 0.2171 - val_acc: 0.8747\n",
            "Epoch 13/30\n",
            "31/31 [==============================] - 7s 224ms/step - loss: 0.1565 - acc: 0.9206 - val_loss: 0.2061 - val_acc: 0.8882\n",
            "Epoch 14/30\n",
            "31/31 [==============================] - 7s 216ms/step - loss: 0.1508 - acc: 0.9244 - val_loss: 0.2238 - val_acc: 0.8769\n",
            "Epoch 15/30\n",
            "31/31 [==============================] - 7s 217ms/step - loss: 0.1497 - acc: 0.9248 - val_loss: 0.2065 - val_acc: 0.8863\n",
            "Epoch 16/30\n",
            "31/31 [==============================] - 7s 219ms/step - loss: 0.1453 - acc: 0.9278 - val_loss: 0.2467 - val_acc: 0.8593\n",
            "Epoch 17/30\n",
            "31/31 [==============================] - 7s 219ms/step - loss: 0.1453 - acc: 0.9274 - val_loss: 0.2167 - val_acc: 0.8775\n",
            "Training completed! Showing history...\n",
            "Displaying the following history keys:  dict_keys(['loss', 'acc', 'val_loss', 'val_acc'])\n"
          ]
        },
        {
          "output_type": "display_data",
          "data": {
            "image/png": "[encoded data removed]",
            "text/plain": [
              "<Figure size 432x288 with 1 Axes>"
            ]
          },
          "metadata": {
            "needs_background": "light"
          }
        },
        {
          "output_type": "display_data",
          "data": {
            "image/png": "[encoded data removed]",
            "text/plain": [
              "<Figure size 432x288 with 1 Axes>"
            ]
          },
          "metadata": {
            "needs_background": "light"
          }
        },
        {
          "output_type": "stream",
          "name": "stdout",
          "text": [
            "Model: \"sequential_2\"\n",
            "_________________________________________________________________\n",
            " Layer (type)                Output Shape              Param #   \n",
            "=================================================================\n",
            " embedding_2 (Embedding)     (None, 50, 100)           1051400   \n",
            "                                                                 \n",
            " bidirectional_1 (Bidirectio  (None, 50, 64)           34048     \n",
            " nal)                                                            \n",
            "                                                                 \n",
            " lstm_2 (LSTM)               (None, 50, 16)            5184      \n",
            "                                                                 \n",
            " time_distributed_2 (TimeDis  (None, 50, 46)           782       \n",
            " tributed)                                                       \n",
            "                                                                 \n",
            "=================================================================\n",
            "Total params: 1,091,414\n",
            "Trainable params: 40,014\n",
            "Non-trainable params: 1,051,400\n",
            "_________________________________________________________________\n",
            "Start training! \n",
            "Parameters: {'verbose': 1, 'epochs': 30, 'batch_size': 64, 'callbacks': [<keras.callbacks.EarlyStopping object at 0x7f6a5a388750>]}\n",
            "Epoch 1/30\n",
            "31/31 [==============================] - 37s 709ms/step - loss: 1.3577 - acc: 0.2093 - val_loss: 1.1103 - val_acc: 0.3264\n",
            "Epoch 2/30\n",
            "31/31 [==============================] - 17s 555ms/step - loss: 0.9772 - acc: 0.4216 - val_loss: 0.8430 - val_acc: 0.4737\n",
            "Epoch 3/30\n",
            "31/31 [==============================] - 17s 558ms/step - loss: 0.6453 - acc: 0.6297 - val_loss: 0.6102 - val_acc: 0.6639\n",
            "Epoch 4/30\n",
            "31/31 [==============================] - 17s 559ms/step - loss: 0.4382 - acc: 0.7713 - val_loss: 0.3713 - val_acc: 0.8150\n",
            "Epoch 5/30\n",
            "31/31 [==============================] - 17s 559ms/step - loss: 0.3287 - acc: 0.8361 - val_loss: 0.3114 - val_acc: 0.8440\n",
            "Epoch 6/30\n",
            "31/31 [==============================] - 17s 563ms/step - loss: 0.2773 - acc: 0.8650 - val_loss: 0.2865 - val_acc: 0.8483\n",
            "Epoch 7/30\n",
            "31/31 [==============================] - 18s 567ms/step - loss: 0.2442 - acc: 0.8823 - val_loss: 0.2978 - val_acc: 0.8457\n",
            "Epoch 8/30\n",
            "31/31 [==============================] - 17s 559ms/step - loss: 0.2230 - acc: 0.8939 - val_loss: 0.2661 - val_acc: 0.8606\n",
            "Epoch 9/30\n",
            "31/31 [==============================] - 17s 556ms/step - loss: 0.2031 - acc: 0.9044 - val_loss: 0.2243 - val_acc: 0.8871\n",
            "Epoch 10/30\n",
            "31/31 [==============================] - 17s 559ms/step - loss: 0.1872 - acc: 0.9130 - val_loss: 0.2214 - val_acc: 0.8861\n",
            "Epoch 11/30\n",
            "31/31 [==============================] - 17s 556ms/step - loss: 0.1812 - acc: 0.9151 - val_loss: 0.2191 - val_acc: 0.8888\n",
            "Epoch 12/30\n",
            "31/31 [==============================] - 17s 558ms/step - loss: 0.1681 - acc: 0.9233 - val_loss: 0.2169 - val_acc: 0.8875\n",
            "Epoch 13/30\n",
            "31/31 [==============================] - 17s 564ms/step - loss: 0.1647 - acc: 0.9236 - val_loss: 0.1984 - val_acc: 0.8988\n",
            "Epoch 14/30\n",
            "31/31 [==============================] - 17s 564ms/step - loss: 0.1508 - acc: 0.9312 - val_loss: 0.1939 - val_acc: 0.9020\n",
            "Epoch 15/30\n",
            "31/31 [==============================] - 17s 559ms/step - loss: 0.1568 - acc: 0.9257 - val_loss: 0.1889 - val_acc: 0.9058\n",
            "Epoch 16/30\n",
            "31/31 [==============================] - 17s 560ms/step - loss: 0.1413 - acc: 0.9369 - val_loss: 0.2215 - val_acc: 0.8794\n",
            "Epoch 17/30\n",
            "31/31 [==============================] - 17s 563ms/step - loss: 0.2657 - acc: 0.8714 - val_loss: 0.2133 - val_acc: 0.8972\n",
            "Epoch 18/30\n",
            "31/31 [==============================] - 17s 552ms/step - loss: 0.1535 - acc: 0.9368 - val_loss: 0.1981 - val_acc: 0.9021\n",
            "Epoch 19/30\n",
            "31/31 [==============================] - 17s 554ms/step - loss: 0.1380 - acc: 0.9424 - val_loss: 0.1869 - val_acc: 0.9076\n",
            "Epoch 20/30\n",
            "31/31 [==============================] - 17s 558ms/step - loss: 0.1281 - acc: 0.9461 - val_loss: 0.1846 - val_acc: 0.9054\n",
            "Epoch 21/30\n",
            "31/31 [==============================] - 17s 557ms/step - loss: 0.1306 - acc: 0.9420 - val_loss: 0.1850 - val_acc: 0.9051\n",
            "Epoch 22/30\n",
            "31/31 [==============================] - 17s 558ms/step - loss: 0.1220 - acc: 0.9479 - val_loss: 0.1758 - val_acc: 0.9113\n",
            "Epoch 23/30\n",
            "31/31 [==============================] - 17s 556ms/step - loss: 0.1208 - acc: 0.9459 - val_loss: 0.2041 - val_acc: 0.8927\n",
            "Epoch 24/30\n",
            "31/31 [==============================] - 17s 561ms/step - loss: 0.1156 - acc: 0.9505 - val_loss: 0.1751 - val_acc: 0.9099\n",
            "Epoch 25/30\n",
            "31/31 [==============================] - 17s 554ms/step - loss: 0.1280 - acc: 0.9411 - val_loss: 0.1714 - val_acc: 0.9120\n",
            "Epoch 26/30\n",
            "31/31 [==============================] - 17s 552ms/step - loss: 0.1100 - acc: 0.9535 - val_loss: 0.1840 - val_acc: 0.9054\n",
            "Epoch 27/30\n",
            "31/31 [==============================] - 17s 560ms/step - loss: 0.1113 - acc: 0.9516 - val_loss: 0.1721 - val_acc: 0.9122\n",
            "Epoch 28/30\n",
            "31/31 [==============================] - 17s 561ms/step - loss: 0.1107 - acc: 0.9514 - val_loss: 0.2767 - val_acc: 0.8445\n",
            "Epoch 29/30\n",
            "31/31 [==============================] - 17s 562ms/step - loss: 0.2632 - acc: 0.8750 - val_loss: 0.2040 - val_acc: 0.9007\n",
            "Epoch 30/30\n",
            "31/31 [==============================] - 17s 556ms/step - loss: 0.1336 - acc: 0.9459 - val_loss: 0.1900 - val_acc: 0.9071\n",
            "Training completed! Showing history...\n",
            "Displaying the following history keys:  dict_keys(['loss', 'acc', 'val_loss', 'val_acc'])\n"
          ]
        },
        {
          "output_type": "display_data",
          "data": {
            "image/png": "[encoded data removed]",
            "text/plain": [
              "<Figure size 432x288 with 1 Axes>"
            ]
          },
          "metadata": {
            "needs_background": "light"
          }
        },
        {
          "output_type": "display_data",
          "data": {
            "image/png": "[encoded data removed]",
            "text/plain": [
              "<Figure size 432x288 with 1 Axes>"
            ]
          },
          "metadata": {
            "needs_background": "light"
          }
        },
        {
          "output_type": "stream",
          "name": "stdout",
          "text": [
            "Model: \"sequential_3\"\n",
            "_________________________________________________________________\n",
            " Layer (type)                Output Shape              Param #   \n",
            "=================================================================\n",
            " embedding_3 (Embedding)     (None, 50, 100)           1051400   \n",
            "                                                                 \n",
            " bidirectional_2 (Bidirectio  (None, 50, 64)           34048     \n",
            " nal)                                                            \n",
            "                                                                 \n",
            " time_distributed_3 (TimeDis  (None, 50, 64)           4160      \n",
            " tributed)                                                       \n",
            "                                                                 \n",
            " time_distributed_4 (TimeDis  (None, 50, 46)           2990      \n",
            " tributed)                                                       \n",
            "                                                                 \n",
            "=================================================================\n",
            "Total params: 1,092,598\n",
            "Trainable params: 41,198\n",
            "Non-trainable params: 1,051,400\n",
            "_________________________________________________________________\n",
            "Start training! \n",
            "Parameters: {'verbose': 1, 'epochs': 30, 'batch_size': 64, 'callbacks': [<keras.callbacks.EarlyStopping object at 0x7f6a5a388750>]}\n",
            "Epoch 1/30\n",
            "31/31 [==============================] - 25s 472ms/step - loss: 1.3630 - acc: 0.2871 - val_loss: 0.8340 - val_acc: 0.5217\n",
            "Epoch 2/30\n",
            "31/31 [==============================] - 11s 365ms/step - loss: 0.5758 - acc: 0.7040 - val_loss: 0.4665 - val_acc: 0.7608\n",
            "Epoch 3/30\n",
            "31/31 [==============================] - 11s 368ms/step - loss: 0.3564 - acc: 0.8256 - val_loss: 0.3463 - val_acc: 0.8151\n",
            "Epoch 4/30\n",
            "31/31 [==============================] - 11s 368ms/step - loss: 0.2843 - acc: 0.8622 - val_loss: 0.3177 - val_acc: 0.8335\n",
            "Epoch 5/30\n",
            "31/31 [==============================] - 11s 364ms/step - loss: 0.3178 - acc: 0.8437 - val_loss: 0.3136 - val_acc: 0.8488\n",
            "Epoch 6/30\n",
            "31/31 [==============================] - 11s 360ms/step - loss: 0.2447 - acc: 0.8927 - val_loss: 0.2571 - val_acc: 0.8829\n",
            "Epoch 7/30\n",
            "31/31 [==============================] - 11s 359ms/step - loss: 0.2083 - acc: 0.9081 - val_loss: 0.2541 - val_acc: 0.8739\n",
            "Epoch 8/30\n",
            "31/31 [==============================] - 11s 362ms/step - loss: 0.1909 - acc: 0.9136 - val_loss: 0.2226 - val_acc: 0.8872\n",
            "Epoch 9/30\n",
            "31/31 [==============================] - 11s 362ms/step - loss: 0.1752 - acc: 0.9201 - val_loss: 0.2193 - val_acc: 0.8899\n",
            "Epoch 10/30\n",
            "31/31 [==============================] - 11s 363ms/step - loss: 0.1669 - acc: 0.9243 - val_loss: 0.2359 - val_acc: 0.8757\n",
            "Epoch 11/30\n",
            "31/31 [==============================] - 11s 360ms/step - loss: 0.1604 - acc: 0.9277 - val_loss: 0.2024 - val_acc: 0.9013\n",
            "Epoch 12/30\n",
            "31/31 [==============================] - 11s 365ms/step - loss: 0.1475 - acc: 0.9350 - val_loss: 0.2101 - val_acc: 0.8943\n",
            "Epoch 13/30\n",
            "31/31 [==============================] - 11s 365ms/step - loss: 0.1436 - acc: 0.9359 - val_loss: 0.2048 - val_acc: 0.8985\n",
            "Epoch 14/30\n",
            "31/31 [==============================] - 11s 364ms/step - loss: 0.1660 - acc: 0.9208 - val_loss: 0.2027 - val_acc: 0.8991\n",
            "Epoch 15/30\n",
            "31/31 [==============================] - 11s 367ms/step - loss: 0.1326 - acc: 0.9448 - val_loss: 0.1932 - val_acc: 0.9040\n",
            "Epoch 16/30\n",
            "31/31 [==============================] - 11s 362ms/step - loss: 0.1256 - acc: 0.9473 - val_loss: 0.1935 - val_acc: 0.9036\n",
            "Epoch 17/30\n",
            "31/31 [==============================] - 11s 363ms/step - loss: 0.1277 - acc: 0.9453 - val_loss: 0.2008 - val_acc: 0.8992\n",
            "Epoch 18/30\n",
            "31/31 [==============================] - 11s 364ms/step - loss: 0.1147 - acc: 0.9540 - val_loss: 0.2064 - val_acc: 0.8965\n",
            "Epoch 19/30\n",
            "31/31 [==============================] - 11s 368ms/step - loss: 0.1135 - acc: 0.9531 - val_loss: 0.1910 - val_acc: 0.9043\n",
            "Epoch 20/30\n",
            "31/31 [==============================] - 11s 363ms/step - loss: 0.1372 - acc: 0.9391 - val_loss: 0.1899 - val_acc: 0.9093\n",
            "Epoch 21/30\n",
            "31/31 [==============================] - 11s 365ms/step - loss: 0.1128 - acc: 0.9544 - val_loss: 0.1899 - val_acc: 0.9072\n",
            "Epoch 22/30\n",
            "31/31 [==============================] - 11s 363ms/step - loss: 0.1030 - acc: 0.9604 - val_loss: 0.1888 - val_acc: 0.9088\n",
            "Epoch 23/30\n",
            "31/31 [==============================] - 11s 364ms/step - loss: 0.1033 - acc: 0.9584 - val_loss: 0.1990 - val_acc: 0.9010\n",
            "Epoch 24/30\n",
            "31/31 [==============================] - 11s 364ms/step - loss: 0.1013 - acc: 0.9606 - val_loss: 0.1916 - val_acc: 0.9088\n",
            "Training completed! Showing history...\n",
            "Displaying the following history keys:  dict_keys(['loss', 'acc', 'val_loss', 'val_acc'])\n"
          ]
        },
        {
          "output_type": "display_data",
          "data": {
            "image/png": "[encoded data removed]",
            "text/plain": [
              "<Figure size 432x288 with 1 Axes>"
            ]
          },
          "metadata": {
            "needs_background": "light"
          }
        },
        {
          "output_type": "display_data",
          "data": {
            "image/png": "[encoded data removed]",
            "text/plain": [
              "<Figure size 432x288 with 1 Axes>"
            ]
          },
          "metadata": {
            "needs_background": "light"
          }
        }
      ]
    },
    {
      "cell_type": "markdown",
      "metadata": {
        "id": "J-0ZF_-txf19"
      },
      "source": [
        "#EVALUATION"
      ]
    },
    {
      "cell_type": "code",
      "metadata": {
        "id": "cF91AoyqxlqS"
      },
      "source": [
        "# vedere class imbalance \n",
        "# vedere sliding window"
      ],
      "execution_count": 13,
      "outputs": []
    },
    {
      "cell_type": "code",
      "metadata": {
        "id": "wOYgCry6xZ6A",
        "colab": {
          "base_uri": "https://localhost:8080/"
        },
        "outputId": "f9743c25-e8be-49a0-c115-15cb33f58e7d"
      },
      "source": [
        "def calculate_f1(model, x, y_true):\n",
        "    y_pred = model.predict_data(x, prediction_info=prediction_info)\n",
        "\n",
        "    # from one hot to label index\n",
        "    y_pred_list = []\n",
        "    y_true_list = []\n",
        "\n",
        "    punctuation = ['#', '$', \"''\", ',', '-lrb-', '-rrb-', '.', ':', '``']\n",
        "    punctuation_toks = [tok[punct] for punct in punctuation]\n",
        "\n",
        "    for i, sen in enumerate(y_pred):\n",
        "        for w_pred, w_true in zip(y_pred[i], y_true[i]):\n",
        "            if np.argmax(w_true) not in punctuation:\n",
        "                y_pred_list.append(np.argmax(w_pred)) \n",
        "                y_true_list.append(np.argmax(w_true))\n",
        "\n",
        "    return sk_metrics.f1_score(y_true_list, y_pred_list, average='macro')\n",
        "    \n",
        "print(calculate_f1(models[0], x_test, y_test))\n"
      ],
      "execution_count": 14,
      "outputs": [
        {
          "output_type": "stream",
          "name": "stdout",
          "text": [
            "Starting prediction: \n",
            "{'batch_size': 64, 'verbose': 1}\n",
            "Predicting on 635 samples\n",
            "10/10 [==============================] - 3s 35ms/step\n",
            "0.8602590459790243\n"
          ]
        }
      ]
    },
    {
      "cell_type": "code",
      "source": [
        "f1s_val = [round(calculate_f1(m, x_val, y_val), 2) for m in models]\n",
        "f1s_test = [round(calculate_f1(m, x_test, y_test), 2) for m in models]\n",
        "\n",
        "df = pd.DataFrame({'f1_val': f1s_val,\n",
        "                   'f1_test': f1s_test},index=model_names)\n",
        "fig = plt.figure(figsize=(8, 6))\n",
        "ax = df.plot.barh()\n",
        "for container in ax.containers:\n",
        "    ax.bar_label(container)"
      ],
      "metadata": {
        "id": "4r2wFA0_4gnc",
        "colab": {
          "base_uri": "https://localhost:8080/",
          "height": 838
        },
        "outputId": "20ddb2bc-af5c-4711-dafd-a23f58027593"
      },
      "execution_count": 15,
      "outputs": [
        {
          "output_type": "stream",
          "name": "stdout",
          "text": [
            "Starting prediction: \n",
            "{'batch_size': 64, 'verbose': 1}\n",
            "Predicting on 1252 samples\n",
            "20/20 [==============================] - 1s 37ms/step\n",
            "Starting prediction: \n",
            "{'batch_size': 64, 'verbose': 1}\n",
            "Predicting on 1252 samples\n",
            "20/20 [==============================] - 2s 17ms/step\n",
            "Starting prediction: \n",
            "{'batch_size': 64, 'verbose': 1}\n",
            "Predicting on 1252 samples\n",
            "20/20 [==============================] - 5s 51ms/step\n",
            "Starting prediction: \n",
            "{'batch_size': 64, 'verbose': 1}\n",
            "Predicting on 1252 samples\n",
            "20/20 [==============================] - 4s 37ms/step\n",
            "Starting prediction: \n",
            "{'batch_size': 64, 'verbose': 1}\n",
            "Predicting on 635 samples\n",
            "10/10 [==============================] - 0s 37ms/step\n",
            "Starting prediction: \n",
            "{'batch_size': 64, 'verbose': 1}\n",
            "Predicting on 635 samples\n",
            "10/10 [==============================] - 0s 18ms/step\n",
            "Starting prediction: \n",
            "{'batch_size': 64, 'verbose': 1}\n",
            "Predicting on 635 samples\n",
            "10/10 [==============================] - 1s 53ms/step\n",
            "Starting prediction: \n",
            "{'batch_size': 64, 'verbose': 1}\n",
            "Predicting on 635 samples\n",
            "10/10 [==============================] - 0s 37ms/step\n"
          ]
        },
        {
          "output_type": "display_data",
          "data": {
            "text/plain": [
              "<Figure size 576x432 with 0 Axes>"
            ]
          },
          "metadata": {}
        },
        {
          "output_type": "display_data",
          "data": {
            "image/png": "[encoded data removed]",
            "text/plain": [
              "<Figure size 432x288 with 1 Axes>"
            ]
          },
          "metadata": {
            "needs_background": "light"
          }
        }
      ]
    },
    {
      "cell_type": "code",
      "source": [
        "\"\"\"\n",
        "MIT License\n",
        "\n",
        "Copyright (c) 2020 Serban Cristian Tudosie\n",
        "\n",
        "Permission is hereby granted, free of charge, to any person obtaining a copy\n",
        "of this software and associated documentation files (the \"Software\"), to deal\n",
        "in the Software without restriction, including without limitation the rights\n",
        "to use, copy, modify, merge, publish, distribute, sublicense, and/or sell\n",
        "copies of the Software, and to permit persons to whom the Software is\n",
        "furnished to do so, subject to the following conditions:\n",
        "\n",
        "The above copyright notice and this permission notice shall be included in all\n",
        "copies or substantial portions of the Software.\n",
        "\n",
        "THE SOFTWARE IS PROVIDED \"AS IS\", WITHOUT WARRANTY OF ANY KIND, EXPRESS OR\n",
        "IMPLIED, INCLUDING BUT NOT LIMITED TO THE WARRANTIES OF MERCHANTABILITY,\n",
        "FITNESS FOR A PARTICULAR PURPOSE AND NONINFRINGEMENT. IN NO EVENT SHALL THE\n",
        "AUTHORS OR COPYRIGHT HOLDERS BE LIABLE FOR ANY CLAIM, DAMAGES OR OTHER\n",
        "LIABILITY, WHETHER IN AN ACTION OF CONTRACT, TORT OR OTHERWISE, ARISING FROM,\n",
        "OUT OF OR IN CONNECTION WITH THE SOFTWARE OR THE USE OR OTHER DEALINGS IN THE\n",
        "SOFTWARE.\n",
        "\"\"\"\n",
        "\n",
        "from sklearn.metrics import confusion_matrix\n",
        "import matplotlib.pyplot as plt\n",
        "import numpy as np\n",
        "\n",
        "\n",
        "def plot_confusion_matrix(y_true, y_pred, labels,\n",
        "                          clf_name=None, normalize='true', figsize=(15, 15)):\n",
        "    \"\"\"\n",
        "        This function calculates and plots with matplotlib the confusion matrix\n",
        "        for some given y_pred, y_true, is slightly different from sklearn's twin\n",
        "        The function is created with the intent of readability and compactness\n",
        "\n",
        "    y_true : array-like of shape (n_samples,)\n",
        "        Ground truth (correct) target values.\n",
        "    y_pred : array-like of shape (n_samples,)\n",
        "        Estimated targets as returned by a classifier.\n",
        "    labels : dictionary to map numbers to labels\n",
        "    clf_name : string, classifier name\n",
        "    normalize : {'true', 'pred', 'all'}, default=None\n",
        "        Normalizes confusion matrix over the true (rows), predicted (columns)\n",
        "        conditions or all the population. If None, confusion matrix will not be\n",
        "        normalized.\n",
        "    figsize : tuple, figure size in inches\n",
        "\n",
        "    return: None\n",
        "    \"\"\"\n",
        "\n",
        "    assert len(y_true) == len(y_pred), \"y_true and y_pred have to have the same length\"\n",
        "    conf_mat = confusion_matrix(y_true, y_pred, normalize=normalize)\n",
        "    num_classes = len(labels)\n",
        "    print(conf_mat.shape)\n",
        "    print(len(np.unique(y_true)))\n",
        "    print(len(labels))\n",
        "\n",
        "    fig, ax = plt.subplots(figsize=figsize)\n",
        "    fig.patch.set_facecolor(\"xkcd:white\")  # white background for dark themes\n",
        "    ax.imshow(conf_mat, cmap=plt.get_cmap(\"RdYlGn\"))\n",
        "\n",
        "    ax.set_xticks(range(num_classes))\n",
        "    ax.set_yticks(range(num_classes))\n",
        "\n",
        "    ax.set_xticklabels([labels[i] for i in range(num_classes)])\n",
        "    ax.set_yticklabels([labels[i] for i in range(num_classes)])\n",
        "\n",
        "    [ax.text(j, i, f\"{conf_mat[i, j]:.2F}\", va=\"center\", ha=\"center\")\n",
        "     for i in range(len(conf_mat)) for j in range(len(conf_mat[0]))]\n",
        "\n",
        "    plt.title(f\"Confusion Matrix {'' if clf_name is None else f'for {clf_name}'}\")\n",
        "    plt.ylabel(\"True\")\n",
        "    plt.xlabel(\"Predicted\")\n",
        "    plt.tight_layout()\n",
        "    plt.show()"
      ],
      "metadata": {
        "id": "iPQkQjCgYF1g"
      },
      "execution_count": 39,
      "outputs": []
    },
    {
      "cell_type": "code",
      "source": [
        "print(\"Confusion matrices over validation set: \")\n",
        "\n",
        "def calculate_conf_mat(model, x, y_true):\n",
        "    y_pred = model.predict_data(x, prediction_info=prediction_info)\n",
        "\n",
        "    # from one hot to label index\n",
        "    y_pred_list = []\n",
        "    y_true_list = []\n",
        "\n",
        "    labels_dict = {np.argmax(val):key for key,val in tok.items()}\n",
        "\n",
        "    for i, sen in enumerate(y_pred):\n",
        "        for w_pred, w_true in zip(y_pred[i], y_true[i]):\n",
        "            y_pred_list.append(np.argmax(w_pred)) \n",
        "            y_true_list.append(np.argmax(w_true))\n",
        "\n",
        "    plot_confusion_matrix(y_pred_list, y_true_list, labels=labels_dict, clf_name=model.name)\n",
        "\n",
        "[calculate_conf_mat(m, x_val, y_val) for m in models]\n"
      ],
      "metadata": {
        "id": "alYqQHNJiS0a"
      },
      "execution_count": null,
      "outputs": []
    },
    {
      "cell_type": "code",
      "source": [
        ""
      ],
      "metadata": {
        "id": "BhhZCaHOjw38"
      },
      "execution_count": null,
      "outputs": []
    }
  ]
}