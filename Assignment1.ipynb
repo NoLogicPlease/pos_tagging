{
  "nbformat": 4,
  "nbformat_minor": 0,
  "metadata": {
    "colab": {
      "name": "Assignment1.ipynb",
      "provenance": [],
      "collapsed_sections": [],
      "toc_visible": true
    },
    "kernelspec": {
      "name": "python3",
      "display_name": "Python 3"
    },
    "language_info": {
      "name": "python"
    },
    "accelerator": "GPU"
  },
  "cells": [
    {
      "cell_type": "markdown",
      "metadata": {
        "id": "V2ADs98pXS5A"
      },
      "source": [
        "#IMPORTS"
      ]
    },
    {
      "cell_type": "code",
      "metadata": {
        "id": "2J_G319uWdaq"
      },
      "source": [
        "import tensorflow as tf\n",
        "from tensorflow import keras\n",
        "from tensorflow.keras import layers\n",
        "\n",
        "import copy\n",
        "import os\n",
        "import re\n",
        "import tarfile\n",
        "import zipfile\n",
        "import random\n",
        "import numpy as np\n",
        "import pandas as pd\n",
        "from tqdm import tqdm\n",
        "from urllib import request\n",
        "import collections\n",
        "import gensim\n",
        "from sklearn.metrics import f1_score, accuracy_score\n",
        "import gensim.downloader as gloader\n",
        "import matplotlib.pyplot as plt"
      ],
      "execution_count": 1,
      "outputs": []
    },
    {
      "cell_type": "code",
      "metadata": {
        "id": "94EeD6PDYehe"
      },
      "source": [
        "EMBEDDING_SIZE = 50"
      ],
      "execution_count": 2,
      "outputs": []
    },
    {
      "cell_type": "code",
      "metadata": {
        "id": "dBnbipknZFiz"
      },
      "source": [
        "def fix_random(seed: int) -> None:\n",
        "    \"\"\"Fix all the possible sources of randomness.\n",
        "\n",
        "    Args:\n",
        "        seed: the seed to use. \n",
        "    \"\"\"\n",
        "    np.random.seed(seed)\n",
        "    random.seed(seed)    \n",
        "    \n",
        "fix_random(42)"
      ],
      "execution_count": 3,
      "outputs": []
    },
    {
      "cell_type": "markdown",
      "metadata": {
        "id": "emVCaVMrZU2l"
      },
      "source": [
        "#PRE-PROCESSING"
      ]
    },
    {
      "cell_type": "code",
      "metadata": {
        "colab": {
          "base_uri": "https://localhost:8080/"
        },
        "id": "wWbdix6EZUJX",
        "outputId": "925a6246-9236-404b-c47e-3018a4e1dfb7"
      },
      "source": [
        "def download_dataset(download_path: str, url: str):  # download dataset\n",
        "    if not os.path.exists(download_path):\n",
        "        print(\"Downloading dataset...\")\n",
        "        request.urlretrieve(url, download_path)\n",
        "        print(\"Download complete!\")\n",
        "\n",
        "\n",
        "def extract_dataset(download_path: str, extract_path: str):  # extract dataset\n",
        "    print(\"Extracting dataset... (it may take a while...)\")\n",
        "    with zipfile.ZipFile(download_path, 'r') as loaded_zip:\n",
        "        loaded_zip.extractall(extract_path)\n",
        "    print(\"Extraction completed!\")\n",
        "\n",
        "\n",
        "def encode_dataset(dataset_path: str, dataset_folder: str, debug: bool = True) -> (\n",
        "        pd.DataFrame, int):  # dataset to dataframe\n",
        "    dataframe_rows = []\n",
        "    s_lengths = []\n",
        "    for index, file in tqdm(enumerate(sorted(os.listdir(dataset_path)))):\n",
        "        file_name = os.path.join(dataset_path, file)\n",
        "        with open(file_name) as f:\n",
        "            lines = f.readlines()\n",
        "        full_file = ''.join(lines)  # since lines is a list we use a single string called full_file\n",
        "\n",
        "        #LRB RRB COPY FROM ASSIGNMENT 2\n",
        "        #######  deletes all puntuation #\n",
        "        #full_file = re.sub(r'[^\\w\\s]', r'\\.', full_file) #replace all puntuaction with period\n",
        "        ############################################\n",
        "\n",
        "        full_file = re.sub(r'(\\t\\d+)', '', full_file)  # remove numbers from each lines of dataset\n",
        "        full_file = re.sub(r'(\\t)', ' ', full_file)  # replace \\t with a space\n",
        "        sentences = full_file.split('\\n\\n')\n",
        "        for s in sentences:  # separate all words from their tags\n",
        "            text = ''.join(re.findall(r'.+ ', s))\n",
        "            labels = ''.join(re.findall(r' .+', s))\n",
        "            labels = re.sub(r' (.+)', r'\\1 ', labels)\n",
        "            labels = re.sub('\\n', ' ', labels)\n",
        "            s_lengths.append(len(labels.split(' ')))\n",
        "            # split into train, val and test\n",
        "            if index <= 100:\n",
        "                split = 'train'\n",
        "            elif 100 < index <= 150:\n",
        "                split = 'val'\n",
        "            else:\n",
        "                split = 'test'\n",
        "\n",
        "            # create a single row of dataframe\n",
        "            dataframe_row = {\n",
        "                \"text\": text,\n",
        "                \"POStagging\": labels,\n",
        "                \"split\": split,\n",
        "            }\n",
        "            dataframe_rows.append(dataframe_row)\n",
        "\n",
        "    # transform the list of rows in a proper dataframe\n",
        "    df = pd.DataFrame(dataframe_rows)\n",
        "    df = df[[\"text\",\n",
        "             \"POStagging\",\n",
        "             \"split\"]]\n",
        "    dataframe_path = os.path.join(dataset_folder, \"dependency_treebank_df.pkl\")\n",
        "    df.to_pickle(dataframe_path)\n",
        "    return df, max(s_lengths)\n",
        "\n",
        "\n",
        "def create_dataset():\n",
        "    dataset_folder = os.path.join(os.getcwd(), \"Datasets\")\n",
        "    if not os.path.exists(dataset_folder):\n",
        "        os.makedirs(dataset_folder)\n",
        "\n",
        "    url = \"https://raw.githubusercontent.com/nltk/nltk_data/gh-pages/packages/corpora/dependency_treebank.zip\"\n",
        "\n",
        "    dataset_path_zip = os.path.join(dataset_folder, \"dependency_treebank.zip\")\n",
        "    download_dataset(dataset_path_zip, url)\n",
        "    extract_dataset(dataset_path_zip, dataset_folder)\n",
        "    dataset_path = os.path.join(dataset_folder, \"dependency_treebank\")\n",
        "    df, max_seq_len = encode_dataset(dataset_path, dataset_folder)\n",
        "    df['POStagging'] = df['POStagging'].str.lower()\n",
        "    df['text'] = df['text'].str.lower()\n",
        "    return df, max_seq_len\n",
        "\n",
        "\n",
        "def create_trainable(dataset, value_to_key, max_seq_len, num_classes):\n",
        "    text_ids = [[value_to_key[word] for word in sen.split()] for sen in dataset['text']]\n",
        "    x_train = []\n",
        "    y_train = []\n",
        "    label_tokenizer = {}\n",
        "\n",
        "    one_hot_idx = 0\n",
        "    for sen, tagging in zip(text_ids, dataset[\"POStagging\"]):\n",
        "        tmp = [0] * (max_seq_len - len(sen)) + sen\n",
        "        x_train.append(tmp)\n",
        "\n",
        "        for label in tagging.split():\n",
        "            try:\n",
        "                check_label = label_tokenizer[label]\n",
        "            except KeyError:\n",
        "                label_tokenizer[label] = [1 if i == one_hot_idx else 0 for i in range(num_classes)]\n",
        "                one_hot_idx += 1\n",
        "\n",
        "        tmp = [[0] * num_classes] * (max_seq_len - len(sen)) + [label_tokenizer[e] for e in tagging.split()]\n",
        "        y_train.append(tmp)\n",
        "    return np.array(x_train), np.array(y_train), label_tokenizer\n",
        "\n",
        "\n",
        "def get_num_classes(dataset):\n",
        "    return len(np.unique(''.join(dataset[\"POStagging\"]).split())) + 1  # +1 for the padding\n",
        "\n",
        "#########################################\n",
        "\n",
        "try:\n",
        "    from google.colab import drive\n",
        "    IN_COLAB=True\n",
        "except:\n",
        "    IN_COLAB=False\n",
        "\n",
        "if IN_COLAB:\n",
        "    print(\"We're running Colab\")\n",
        "    # Mount the Google Drive at mount\n",
        "    mount='/content/gdrive'\n",
        "    print(\"Colab: mounting Google drive on \", mount)\n",
        "    drive.mount(mount)\n",
        "\n",
        "    # Switch to the directory on the Google Drive that you want to use\n",
        "    drive_root = mount + \"/My Drive/NLP/Assignment1\"\n",
        "    \n",
        "    # Create drive_root if it doesn't exist\n",
        "    create_drive_root = True\n",
        "    if create_drive_root:\n",
        "        print(\"\\nColab: making sure \", drive_root, \" exists.\")\n",
        "        os.makedirs(drive_root, exist_ok=True)\n",
        "    \n",
        "    # Change to the directory\n",
        "    print(\"\\nColab: Changing directory to \", drive_root)\n",
        "    %cd $drive_root\n",
        "    print(\"Checking working directory:\")\n",
        "    %pwd\n",
        "\n",
        "# download_data('dataset')"
      ],
      "execution_count": 4,
      "outputs": [
        {
          "output_type": "stream",
          "name": "stdout",
          "text": [
            "We're running Colab\n",
            "Colab: mounting Google drive on  /content/gdrive\n",
            "Drive already mounted at /content/gdrive; to attempt to forcibly remount, call drive.mount(\"/content/gdrive\", force_remount=True).\n",
            "\n",
            "Colab: making sure  /content/gdrive/My Drive/NLP/Assignment1  exists.\n",
            "\n",
            "Colab: Changing directory to  /content/gdrive/My Drive/NLP/Assignment1\n",
            "/content/gdrive/My Drive/NLP/Assignment1\n",
            "Checking working directory:\n"
          ]
        }
      ]
    },
    {
      "cell_type": "markdown",
      "metadata": {
        "id": "f906py0bZ58D"
      },
      "source": [
        "#CLASSES"
      ]
    },
    {
      "cell_type": "markdown",
      "metadata": {
        "id": "2WIn6xeVaDbI"
      },
      "source": [
        "##Tokenizer"
      ]
    },
    {
      "cell_type": "code",
      "metadata": {
        "id": "lDUaYlImZ89v"
      },
      "source": [
        "class Tokenizer(object):\n",
        "    def __init__(self, dataset_sentences, embedding_dim, glove_dict, glove_matrix):\n",
        "        self.embedding_matrix = None\n",
        "        self.value_to_key = {}\n",
        "        self.value_to_key_new = {}\n",
        "        self.key_to_value = {}\n",
        "        self.num_unique_words = 0\n",
        "        self.dataset_sentences = dataset_sentences\n",
        "        self.embedding_dim = embedding_dim\n",
        "        self.glove_dict = glove_dict\n",
        "        self.glove_matrix = glove_matrix\n",
        "        self.unique_words = set()\n",
        "\n",
        "    def get_val_to_key(self):\n",
        "        return copy.deepcopy(self.value_to_key)\n",
        "\n",
        "    def tokenize(self):\n",
        "        self.value_to_key_new = {}\n",
        "        unique_words = set()\n",
        "        for sen in self.dataset_sentences:\n",
        "            for w in sen.split():\n",
        "                unique_words.add(w)  # get se of unique words\n",
        "        new_unique = unique_words - self.unique_words\n",
        "        for i, word in enumerate(new_unique):\n",
        "            if self.embedding_matrix is not None:\n",
        "                self.key_to_value[i + len(self.embedding_matrix)] = word  # build two dictionaries for key value correspondence\n",
        "                self.value_to_key[word] = i + len(self.embedding_matrix)\n",
        "            else:\n",
        "                self.key_to_value[i] = word  # build two dictionaries for key value correspondence\n",
        "                self.value_to_key[word] = i\n",
        "            self.value_to_key_new[word] = i\n",
        "\n",
        "        self.num_unique_words = len(new_unique)\n",
        "        self.unique_words = self.unique_words | new_unique  # union of unique words and new unique words\n",
        "\n",
        "\n",
        "    def __build_embedding_matrix_glove(self):\n",
        "        oov_words = []\n",
        "        tmp_embedding_matrix = np.zeros((self.num_unique_words, self.embedding_dim), dtype=np.float32)\n",
        "        len_old_emb_matrix = len(self.embedding_matrix) if self.embedding_matrix is not None else 0\n",
        "        for word, idx in tqdm(self.value_to_key_new.items()):\n",
        "            try:\n",
        "                embedding_vector = self.glove_matrix[self.glove_dict[word]]\n",
        "                tmp_embedding_matrix[idx] = embedding_vector\n",
        "            except (KeyError, TypeError):\n",
        "                oov_words.append((word, idx + len_old_emb_matrix))\n",
        "        if self.embedding_matrix is not None:\n",
        "            self.embedding_matrix = np.vstack((self.embedding_matrix, tmp_embedding_matrix))\n",
        "        else:\n",
        "            self.embedding_matrix = tmp_embedding_matrix\n",
        "        return oov_words\n",
        "\n",
        "    def build_embedding_matrix(self):\n",
        "        oov_words = self.__build_embedding_matrix_glove()\n",
        "        for word, idx in oov_words:\n",
        "            neighbour_words = []\n",
        "            for sen in self.dataset_sentences:  # look for word in sentence\n",
        "                for i, wanted_word in enumerate(sen):\n",
        "                    if wanted_word == word:\n",
        "                        neighbour_words.append(sen[i - 1])  # append previous word in list of neighbours\n",
        "                        neighbour_words.append(sen[i + 1])  # append next word in list of neighbours\n",
        "            avg_matrix = np.zeros((len(neighbour_words), self.embedding_dim))  # initialize matrix of avgs\n",
        "\n",
        "            length_in_vocab = 0  # to check if neighbours are OOV\n",
        "            for i, el in enumerate(neighbour_words):\n",
        "                try:\n",
        "                    avg_matrix[i] = self.embedding_matrix[self.value_to_key[el]]  # check not OOV\n",
        "                    length_in_vocab += 1  # we don't want to use the zero columns of avg_matrix\n",
        "                except (KeyError, TypeError):  # the model doesn't exist\n",
        "                    pass\n",
        "            if length_in_vocab == 0:\n",
        "                embedding_vector = np.random.uniform(low=-0.05, high=0.05, size=self.embedding_dim)\n",
        "            else:\n",
        "                embedding_vector = np.mean(avg_matrix[:length_in_vocab], axis=0)\n",
        "            self.embedding_matrix[idx] = embedding_vector\n",
        "        return copy.deepcopy(self.embedding_matrix)"
      ],
      "execution_count": 5,
      "outputs": []
    },
    {
      "cell_type": "markdown",
      "metadata": {
        "id": "KgyHeGTHaHEW"
      },
      "source": [
        "##Model"
      ]
    },
    {
      "cell_type": "code",
      "metadata": {
        "id": "ACllxoPkaHNp"
      },
      "source": [
        "class Model(object):\n",
        "    def __init__(self, model_type, compile_info, value_to_key, embedding_dim, max_seq_len, num_labels,\n",
        "                 embedding_matrix):\n",
        "\n",
        "        self.compile_info = compile_info\n",
        "        self.value_to_key = value_to_key\n",
        "        self.embedding_dim = embedding_dim\n",
        "        self.max_seq_len = max_seq_len\n",
        "        self.num_labels = num_labels\n",
        "        self.embedding_matrix = embedding_matrix\n",
        "\n",
        "        if 'baseline' == model_type:\n",
        "            self.model = self.create_LSTM()\n",
        "        elif 'gru' == model_type:\n",
        "            self.model = self.create_GRU()\n",
        "        elif 'two_lstm' == model_type:\n",
        "            self.model = self.create_two_LSTM()\n",
        "        else:\n",
        "            self.model = self.create_two_Dense()\n",
        "\n",
        "\n",
        "    def create_LSTM(self) -> keras.Model:\n",
        "\n",
        "        bidirect_model = keras.models.Sequential()\n",
        "        bidirect_model.add(layers.Embedding(input_dim=len(self.value_to_key.keys()),\n",
        "                                            output_dim=self.embedding_dim,\n",
        "                                            input_length=self.max_seq_len,\n",
        "                                            mask_zero=True,\n",
        "                                            weights=[self.embedding_matrix],\n",
        "                                            trainable=False\n",
        "                                            ))\n",
        "        bidirect_model.add(layers.Bidirectional(layers.LSTM(250, return_sequences=True)))\n",
        "        bidirect_model.add(layers.TimeDistributed(layers.Dense(self.num_labels, activation=\"softmax\")))\n",
        "\n",
        "        bidirect_model.compile(**self.compile_info)\n",
        "        bidirect_model.summary()\n",
        "        return bidirect_model\n",
        "\n",
        "    def create_GRU(self) -> keras.Model:\n",
        "        gru = keras.models.Sequential()\n",
        "        gru.add(layers.Embedding(input_dim=len(self.value_to_key.keys()),\n",
        "                                 output_dim=self.embedding_dim,\n",
        "                                 input_length=self.max_seq_len,\n",
        "                                 mask_zero=True,\n",
        "                                 weights=[self.embedding_matrix],\n",
        "                                 trainable=False\n",
        "                                 ))\n",
        "\n",
        "        gru.add(layers.GRU(64, return_sequences=True))\n",
        "        gru.add(layers.TimeDistributed(layers.Dense(self.num_labels, activation=\"softmax\")))\n",
        "        gru.compile(**self.compile_info)\n",
        "        gru.summary()\n",
        "        return gru\n",
        "\n",
        "    def create_two_LSTM(self) -> keras.Model:\n",
        "        lstm = keras.models.Sequential()\n",
        "        lstm.add(layers.Embedding(input_dim=len(self.value_to_key.keys()),\n",
        "                                  output_dim=self.embedding_dim,\n",
        "                                  input_length=self.max_seq_len,\n",
        "                                  mask_zero=True,\n",
        "                                  weights=[self.embedding_matrix],\n",
        "                                  trainable=False\n",
        "                                  ))\n",
        "\n",
        "        lstm.add(layers.Bidirectional(layers.LSTM(250, return_sequences=True)))\n",
        "        lstm.add(layers.LSTM(64, return_sequences=True))\n",
        "        lstm.add(layers.TimeDistributed(layers.Dense(self.num_labels, activation=\"softmax\")))\n",
        "        lstm.compile(**self.compile_info)\n",
        "        lstm.summary()\n",
        "        return lstm\n",
        "\n",
        "    def create_two_Dense(self) -> keras.Model:\n",
        "        lstm = keras.models.Sequential()\n",
        "        lstm.add(layers.Embedding(input_dim=len(self.value_to_key.keys()),\n",
        "                                  output_dim=self.embedding_dim,\n",
        "                                  input_length=self.max_seq_len,\n",
        "                                  mask_zero=True,\n",
        "                                  weights=[self.embedding_matrix],\n",
        "                                  trainable=False\n",
        "                                  ))\n",
        "\n",
        "        lstm.add(layers.Bidirectional(layers.LSTM(250, return_sequences=True)))\n",
        "        lstm.add(layers.TimeDistributed(layers.Dense(128, activation=\"relu\")))\n",
        "        lstm.add(layers.TimeDistributed(layers.Dense(self.num_labels, activation=\"softmax\")))\n",
        "        lstm.compile(**self.compile_info)\n",
        "        lstm.summary()\n",
        "        return lstm\n",
        "\n",
        "    def show_history(self, history: keras.callbacks.History):\n",
        "\n",
        "        history_data = history.history\n",
        "        print(\"Displaying the following history keys: \", history_data.keys())\n",
        "\n",
        "        for key, value in history_data.items():\n",
        "            if not key.startswith('val'):\n",
        "                fig, ax = plt.subplots(1, 1)\n",
        "                ax.set_title(key)\n",
        "                ax.plot(value)\n",
        "                if 'val_{}'.format(key) in history_data:\n",
        "                    ax.plot(history_data['val_{}'.format(key)])\n",
        "                else:\n",
        "                    print(\"Couldn't find validation values for metric: \", key)\n",
        "\n",
        "                ax.set_ylabel(key)\n",
        "                ax.set_xlabel('epoch')\n",
        "                ax.legend(['train', 'val'], loc='best')\n",
        "\n",
        "        plt.show()\n",
        "\n",
        "    def train_model(self,\n",
        "                    x_train: np.ndarray,\n",
        "                    y_train: np.ndarray,\n",
        "                    x_val: np.ndarray,\n",
        "                    y_val: np.ndarray,\n",
        "                    training_info: dict):\n",
        "\n",
        "        print(\"Start training! \\nParameters: {}\".format(training_info))\n",
        "        history = self.model.fit(x=x_train, y=y_train,\n",
        "                                 validation_data=(x_val, y_val),\n",
        "                                 **training_info)\n",
        "        print(\"Training completed! Showing history...\")\n",
        "\n",
        "        self.show_history(history)\n",
        "\n",
        "    def predict_data(self,\n",
        "                      x: np.ndarray,\n",
        "                      prediction_info: dict) -> np.ndarray:\n",
        "\n",
        "        print('Starting prediction: \\n{}'.format(prediction_info))\n",
        "        print('Predicting on {} samples'.format(x.shape[0]))\n",
        "\n",
        "        predictions = self.model.predict(x, **prediction_info)\n",
        "        return predictions"
      ],
      "execution_count": 6,
      "outputs": []
    },
    {
      "cell_type": "markdown",
      "metadata": {
        "id": "ePav_t9Ham6U"
      },
      "source": [
        "#MAIN"
      ]
    },
    {
      "cell_type": "code",
      "metadata": {
        "colab": {
          "base_uri": "https://localhost:8080/"
        },
        "id": "tXHka6Viamc6",
        "outputId": "2eb46dbb-3954-42d3-ef07-9aef0bdc9612"
      },
      "source": [
        "df, max_seq_len = create_dataset()\n",
        "\n",
        "try:\n",
        "    with open(f\"glove-{EMBEDDING_DIMENSION}.pkl\", 'rb') as f:\n",
        "            emb_model = pickle.load(f)\n",
        "except Exception:\n",
        "    emb_model = gloader.load(f\"glove-wiki-gigaword-{EMBEDDING_DIMENSION}\")\n",
        "    with open(f\"glove-{EMBEDDING_DIMENSION}.pkl\", 'wb') as f:\n",
        "        pickle.dump(emb_model, f)\n",
        "\n",
        "    glove_dict = emb_model.key_to_index\n",
        "    glove_matrix = emb_model.vectors\n",
        "\n",
        "tokenizer = Tokenizer(df[df['split'] == 'train']['text'], EMBEDDING_SIZE, glove_dict, glove_matrix)\n",
        "tokenizer.tokenize()\n",
        "v2_val_to_key = tokenizer.get_val_to_key()\n",
        "v2_matrix = tokenizer.build_embedding_matrix()\n",
        "\n",
        "tokenizer.dataset_sentences = df[df['split'] == 'val']['text']\n",
        "tokenizer.tokenize()\n",
        "v3_matrix = tokenizer.build_embedding_matrix()\n",
        "v3_val_to_key = tokenizer.get_val_to_key()\n",
        "\n",
        "tokenizer.dataset_sentences = df[df['split'] == 'test']['text']\n",
        "tokenizer.tokenize()\n",
        "v4_matrix = tokenizer.build_embedding_matrix()\n",
        "v4_val_to_key = tokenizer.get_val_to_key()\n",
        "\n",
        "num_classes = get_num_classes(df[df['split'] == 'train'])\n",
        "x_train, y_train, tok = create_trainable(df[df['split'] == 'train'], v3_val_to_key, max_seq_len,\n",
        "                                         num_classes=num_classes)\n",
        "x_val, y_val, tok = create_trainable(df[df['split'] == 'val'], v3_val_to_key, max_seq_len, num_classes=num_classes)\n",
        "x_test, y_test, tok = create_trainable(df[df['split'] == 'test'], v4_val_to_key, max_seq_len, num_classes=num_classes)"
      ],
      "execution_count": 7,
      "outputs": [
        {
          "output_type": "stream",
          "name": "stdout",
          "text": [
            "Extracting dataset... (it may take a while...)\n",
            "Extraction completed!\n"
          ]
        },
        {
          "output_type": "stream",
          "name": "stderr",
          "text": [
            "199it [00:00, 330.21it/s]\n",
            "100%|██████████| 7481/7481 [00:00<00:00, 486942.30it/s]\n",
            "100%|██████████| 2434/2434 [00:00<00:00, 320521.68it/s]\n",
            "100%|██████████| 1032/1032 [00:00<00:00, 750697.49it/s]\n"
          ]
        }
      ]
    },
    {
      "cell_type": "markdown",
      "metadata": {
        "id": "s99TcYeDa1y9"
      },
      "source": [
        "#TRAIN VARIOUS MODELS"
      ]
    },
    {
      "cell_type": "code",
      "metadata": {
        "colab": {
          "base_uri": "https://localhost:8080/",
          "height": 1000
        },
        "id": "y1w997vca49D",
        "outputId": "d92c242a-0247-4852-9111-af205aa9a642"
      },
      "source": [
        "compile_info = {\n",
        "    'optimizer': keras.optimizers.Adam(learning_rate=1e-3),\n",
        "    'loss': 'categorical_crossentropy',\n",
        "    'metrics': ['accuracy']\n",
        "}\n",
        "\n",
        "training_info = {\n",
        "    'verbose': 1,\n",
        "    'epochs': 1,\n",
        "    'batch_size': 64,\n",
        "    'callbacks': [keras.callbacks.EarlyStopping(monitor='val_loss',\n",
        "                                                patience=10)]\n",
        "}\n",
        "\n",
        "model_params = {\n",
        "    'compile_info': compile_info,\n",
        "    'value_to_key': v4_val_to_key,\n",
        "    'embedding_dim': EMBEDDING_SIZE,\n",
        "    'max_seq_len': max_seq_len,\n",
        "    'num_labels': num_classes,\n",
        "    'embedding_matrix': v4_matrix\n",
        "}\n",
        "\n",
        "prediction_info = {\n",
        "    'batch_size': 64,\n",
        "    'verbose': 1\n",
        "}\n",
        "\n",
        "# BASELINE\n",
        "baseline = Model('baseline', compile_info, v4_val_to_key, EMBEDDING_SIZE, max_seq_len,\n",
        "                 num_labels=num_classes, embedding_matrix=v4_matrix)\n",
        "baseline_train = baseline.train_model(x_train=x_train, y_train=y_train,\n",
        "                             x_val=x_val, y_val=y_val, training_info=training_info)\n",
        "\n",
        "# GRU\n",
        "#gru_model = Model('gru', compile_info, v3_val_to_key, EMBEDDING_SIZE, max_seq_len,\n",
        "                   #          num_labels=num_classes, embedding_matrix=v3_matrix)\n",
        "\n",
        "#gru_train_model = Model.train_model(x_train=x_train, y_train=y_train,\n",
        "                      #              x_val=x_val, y_val=y_val, training_info=training_info)\n",
        "\n",
        "# TWO LSTM\n",
        "'''twolstm_model = Model('two_lstm', compile_info, v3_val_to_key, EMBEDDING_SIZE, max_seq_len,\n",
        "                                      num_labels=num_classes, embedding_matrix=v3_matrix)\n",
        "                                      \n",
        "twolstm_train_model = Model.train_model(x_train=x_train, y_train=y_train,\n",
        "        x_val=x_val, y_val=y_val, training_info=training_info)\n",
        "\n",
        "# TWO DENSE\n",
        "twodense_model = Model('two_dense', compile_info, v3_val_to_key, EMBEDDING_SIZE, max_seq_len,\n",
        "                                        num_labels=num_classes, embedding_matrix=v3_matrix)\n",
        "\n",
        "twodense_train_model = Model.train_model(x_train=x_train, y_train=y_train,\n",
        "                                    x_val=x_val, y_val=y_val, training_info=training_info)'''\n",
        "\n"
      ],
      "execution_count": 30,
      "outputs": [
        {
          "output_type": "stream",
          "name": "stdout",
          "text": [
            "Model: \"sequential_5\"\n",
            "_________________________________________________________________\n",
            " Layer (type)                Output Shape              Param #   \n",
            "=================================================================\n",
            " embedding_5 (Embedding)     (None, 250, 50)           547350    \n",
            "                                                                 \n",
            " bidirectional_5 (Bidirectio  (None, 250, 500)         602000    \n",
            " nal)                                                            \n",
            "                                                                 \n",
            " time_distributed_5 (TimeDis  (None, 250, 46)          23046     \n",
            " tributed)                                                       \n",
            "                                                                 \n",
            "=================================================================\n",
            "Total params: 1,172,396\n",
            "Trainable params: 625,046\n",
            "Non-trainable params: 547,350\n",
            "_________________________________________________________________\n",
            "Start training! \n",
            "Parameters: {'verbose': 1, 'epochs': 1, 'batch_size': 64, 'callbacks': [<keras.callbacks.EarlyStopping object at 0x7f4e8d77c0d0>]}\n",
            "31/31 [==============================] - 32s 819ms/step - loss: 0.3199 - accuracy: 0.1383 - val_loss: 0.3468 - val_accuracy: 0.0739\n",
            "Training completed! Showing history...\n",
            "Displaying the following history keys:  dict_keys(['loss', 'accuracy', 'val_loss', 'val_accuracy'])\n"
          ]
        },
        {
          "output_type": "display_data",
          "data": {
            "image/png": "[encoded data removed]",
            "text/plain": [
              "<Figure size 432x288 with 1 Axes>"
            ]
          },
          "metadata": {
            "needs_background": "light"
          }
        },
        {
          "output_type": "display_data",
          "data": {
            "image/png": "[encoded data removed]",
            "text/plain": [
              "<Figure size 432x288 with 1 Axes>"
            ]
          },
          "metadata": {
            "needs_background": "light"
          }
        },
        {
          "output_type": "stream",
          "name": "stdout",
          "text": [
            "Starting prediction: \n",
            "{'batch_size': 64, 'verbose': 1}\n",
            "Predicting on 644 samples\n",
            "11/11 [==============================] - 5s 154ms/step\n"
          ]
        },
        {
          "output_type": "error",
          "ename": "TypeError",
          "evalue": "ignored",
          "traceback": [
            "\u001b[0;31m---------------------------------------------------------------------------\u001b[0m",
            "\u001b[0;31mTypeError\u001b[0m                                 Traceback (most recent call last)",
            "\u001b[0;32m<ipython-input-30-791fb63f6a5f>\u001b[0m in \u001b[0;36m<module>\u001b[0;34m()\u001b[0m\n\u001b[1;32m     58\u001b[0m \u001b[0my_pred\u001b[0m \u001b[0;34m=\u001b[0m \u001b[0;34m[\u001b[0m\u001b[0mnp\u001b[0m\u001b[0;34m.\u001b[0m\u001b[0margmax\u001b[0m\u001b[0;34m(\u001b[0m\u001b[0mel\u001b[0m\u001b[0;34m)\u001b[0m \u001b[0;32mfor\u001b[0m \u001b[0mel\u001b[0m \u001b[0;32min\u001b[0m \u001b[0my_pred\u001b[0m\u001b[0;34m]\u001b[0m  \u001b[0;31m# from one hot to label index\u001b[0m\u001b[0;34m\u001b[0m\u001b[0;34m\u001b[0m\u001b[0m\n\u001b[1;32m     59\u001b[0m \u001b[0my_true\u001b[0m \u001b[0;34m=\u001b[0m \u001b[0;34m[\u001b[0m\u001b[0mnp\u001b[0m\u001b[0;34m.\u001b[0m\u001b[0margmax\u001b[0m\u001b[0;34m(\u001b[0m\u001b[0mel\u001b[0m\u001b[0;34m)\u001b[0m \u001b[0;32mfor\u001b[0m \u001b[0mel\u001b[0m \u001b[0;32min\u001b[0m \u001b[0my_test\u001b[0m\u001b[0;34m]\u001b[0m\u001b[0;34m\u001b[0m\u001b[0;34m\u001b[0m\u001b[0m\n\u001b[0;32m---> 60\u001b[0;31m \u001b[0mf1_score\u001b[0m \u001b[0;34m=\u001b[0m \u001b[0mf1_score\u001b[0m\u001b[0;34m(\u001b[0m\u001b[0my_true\u001b[0m\u001b[0;34m,\u001b[0m \u001b[0my_pred\u001b[0m\u001b[0;34m,\u001b[0m \u001b[0maverage\u001b[0m\u001b[0;34m=\u001b[0m\u001b[0;34m'macro'\u001b[0m\u001b[0;34m)\u001b[0m\u001b[0;34m\u001b[0m\u001b[0;34m\u001b[0m\u001b[0m\n\u001b[0m\u001b[1;32m     61\u001b[0m \u001b[0mprint\u001b[0m\u001b[0;34m(\u001b[0m\u001b[0mf1_score\u001b[0m\u001b[0;34m)\u001b[0m\u001b[0;34m\u001b[0m\u001b[0;34m\u001b[0m\u001b[0m\n",
            "\u001b[0;31mTypeError\u001b[0m: 'numpy.float64' object is not callable"
          ]
        }
      ]
    },
    {
      "cell_type": "markdown",
      "metadata": {
        "id": "J-0ZF_-txf19"
      },
      "source": [
        "#EVALUATION"
      ]
    },
    {
      "cell_type": "code",
      "metadata": {
        "id": "cF91AoyqxlqS"
      },
      "source": [
        "#funzione per togliere la punteggiatura"
      ],
      "execution_count": null,
      "outputs": []
    },
    {
      "cell_type": "code",
      "metadata": {
        "id": "wOYgCry6xZ6A"
      },
      "source": [
        "#bisogna togliere la punteggiatura\n",
        "y_pred = baseline.predict_data(x_test, prediction_info=prediction_info)\n",
        "y_pred = [np.argmax(el) for el in y_pred]  # from one hot to label index\n",
        "y_true = [np.argmax(el) for el in y_test]\n",
        "f1_score = f1_score(y_true, y_pred, average='macro')\n",
        "print(f1_score)"
      ],
      "execution_count": null,
      "outputs": []
    }
  ]
}